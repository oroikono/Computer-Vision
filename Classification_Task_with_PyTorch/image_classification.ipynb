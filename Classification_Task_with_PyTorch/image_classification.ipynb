{
  "cells": [
    {
      "cell_type": "markdown",
      "metadata": {
        "id": "aveSTx8GZzjT"
      },
      "source": [
        "# Image Classification with PyTorch"
      ]
    },
    {
      "cell_type": "markdown",
      "metadata": {
        "id": "46Rb1qNeZzjU"
      },
      "source": [
        "## Data loading\n"
      ]
    },
    {
      "cell_type": "code",
      "source": [
        "!sudo apt-get update -y\n",
        "!sudo apt-get install python3.9"
      ],
      "metadata": {
        "colab": {
          "base_uri": "https://localhost:8080/"
        },
        "id": "0JcekzrxL8Fz",
        "outputId": "aef9b182-2f7e-444d-8288-0803f2ed83a1"
      },
      "execution_count": 33,
      "outputs": [
        {
          "output_type": "stream",
          "name": "stdout",
          "text": [
            "Hit:1 https://cloud.r-project.org/bin/linux/ubuntu bionic-cran40/ InRelease\n",
            "Hit:2 http://security.ubuntu.com/ubuntu bionic-security InRelease\n",
            "Hit:3 http://ppa.launchpad.net/c2d4u.team/c2d4u4.0+/ubuntu bionic InRelease\n",
            "Hit:4 http://archive.ubuntu.com/ubuntu bionic InRelease\n",
            "Hit:5 http://ppa.launchpad.net/cran/libgit2/ubuntu bionic InRelease\n",
            "Ign:6 https://developer.download.nvidia.com/compute/machine-learning/repos/ubuntu1804/x86_64  InRelease\n",
            "Hit:7 https://developer.download.nvidia.com/compute/cuda/repos/ubuntu1804/x86_64  InRelease\n",
            "Hit:8 https://developer.download.nvidia.com/compute/machine-learning/repos/ubuntu1804/x86_64  Release\n",
            "Hit:9 http://archive.ubuntu.com/ubuntu bionic-updates InRelease\n",
            "Hit:11 http://ppa.launchpad.net/deadsnakes/ppa/ubuntu bionic InRelease\n",
            "Hit:12 http://archive.ubuntu.com/ubuntu bionic-backports InRelease\n",
            "Hit:13 http://ppa.launchpad.net/graphics-drivers/ppa/ubuntu bionic InRelease\n",
            "Reading package lists... Done\n",
            "Reading package lists... Done\n",
            "Building dependency tree       \n",
            "Reading state information... Done\n",
            "python3.9 is already the newest version (3.9.15-1+bionic1).\n",
            "The following package was automatically installed and is no longer required:\n",
            "  libnvidia-common-460\n",
            "Use 'sudo apt autoremove' to remove it.\n",
            "0 upgraded, 0 newly installed, 0 to remove and 29 not upgraded.\n"
          ]
        }
      ]
    },
    {
      "cell_type": "code",
      "source": [
        "!pip install torchaudio==0.13.0\n",
        "! pip install torchtext==0.14.0"
      ],
      "metadata": {
        "colab": {
          "base_uri": "https://localhost:8080/"
        },
        "id": "wMPb0JxwPmw-",
        "outputId": "76709cdd-eb4c-4766-87c3-32d98795c1e2"
      },
      "execution_count": 34,
      "outputs": [
        {
          "output_type": "stream",
          "name": "stdout",
          "text": [
            "Looking in indexes: https://pypi.org/simple, https://us-python.pkg.dev/colab-wheels/public/simple/\n",
            "Requirement already satisfied: torchaudio==0.13.0 in /usr/local/lib/python3.7/dist-packages (0.13.0)\n",
            "Requirement already satisfied: torch==1.13.0 in /usr/local/lib/python3.7/dist-packages (from torchaudio==0.13.0) (1.13.0)\n",
            "Requirement already satisfied: nvidia-cublas-cu11==11.10.3.66 in /usr/local/lib/python3.7/dist-packages (from torch==1.13.0->torchaudio==0.13.0) (11.10.3.66)\n",
            "Requirement already satisfied: nvidia-cuda-nvrtc-cu11==11.7.99 in /usr/local/lib/python3.7/dist-packages (from torch==1.13.0->torchaudio==0.13.0) (11.7.99)\n",
            "Requirement already satisfied: nvidia-cudnn-cu11==8.5.0.96 in /usr/local/lib/python3.7/dist-packages (from torch==1.13.0->torchaudio==0.13.0) (8.5.0.96)\n",
            "Requirement already satisfied: nvidia-cuda-runtime-cu11==11.7.99 in /usr/local/lib/python3.7/dist-packages (from torch==1.13.0->torchaudio==0.13.0) (11.7.99)\n",
            "Requirement already satisfied: typing-extensions in /usr/local/lib/python3.7/dist-packages (from torch==1.13.0->torchaudio==0.13.0) (4.1.1)\n",
            "Requirement already satisfied: wheel in /usr/local/lib/python3.7/dist-packages (from nvidia-cublas-cu11==11.10.3.66->torch==1.13.0->torchaudio==0.13.0) (0.37.1)\n",
            "Requirement already satisfied: setuptools in /usr/local/lib/python3.7/dist-packages (from nvidia-cublas-cu11==11.10.3.66->torch==1.13.0->torchaudio==0.13.0) (57.4.0)\n",
            "Looking in indexes: https://pypi.org/simple, https://us-python.pkg.dev/colab-wheels/public/simple/\n",
            "Requirement already satisfied: torchtext==0.14.0 in /usr/local/lib/python3.7/dist-packages (0.14.0)\n",
            "Requirement already satisfied: numpy in /usr/local/lib/python3.7/dist-packages (from torchtext==0.14.0) (1.21.6)\n",
            "Requirement already satisfied: requests in /usr/local/lib/python3.7/dist-packages (from torchtext==0.14.0) (2.23.0)\n",
            "Requirement already satisfied: torch==1.13.0 in /usr/local/lib/python3.7/dist-packages (from torchtext==0.14.0) (1.13.0)\n",
            "Requirement already satisfied: tqdm in /usr/local/lib/python3.7/dist-packages (from torchtext==0.14.0) (4.64.1)\n",
            "Requirement already satisfied: nvidia-cuda-runtime-cu11==11.7.99 in /usr/local/lib/python3.7/dist-packages (from torch==1.13.0->torchtext==0.14.0) (11.7.99)\n",
            "Requirement already satisfied: nvidia-cuda-nvrtc-cu11==11.7.99 in /usr/local/lib/python3.7/dist-packages (from torch==1.13.0->torchtext==0.14.0) (11.7.99)\n",
            "Requirement already satisfied: nvidia-cublas-cu11==11.10.3.66 in /usr/local/lib/python3.7/dist-packages (from torch==1.13.0->torchtext==0.14.0) (11.10.3.66)\n",
            "Requirement already satisfied: nvidia-cudnn-cu11==8.5.0.96 in /usr/local/lib/python3.7/dist-packages (from torch==1.13.0->torchtext==0.14.0) (8.5.0.96)\n",
            "Requirement already satisfied: typing-extensions in /usr/local/lib/python3.7/dist-packages (from torch==1.13.0->torchtext==0.14.0) (4.1.1)\n",
            "Requirement already satisfied: setuptools in /usr/local/lib/python3.7/dist-packages (from nvidia-cublas-cu11==11.10.3.66->torch==1.13.0->torchtext==0.14.0) (57.4.0)\n",
            "Requirement already satisfied: wheel in /usr/local/lib/python3.7/dist-packages (from nvidia-cublas-cu11==11.10.3.66->torch==1.13.0->torchtext==0.14.0) (0.37.1)\n",
            "Requirement already satisfied: certifi>=2017.4.17 in /usr/local/lib/python3.7/dist-packages (from requests->torchtext==0.14.0) (2022.9.24)\n",
            "Requirement already satisfied: chardet<4,>=3.0.2 in /usr/local/lib/python3.7/dist-packages (from requests->torchtext==0.14.0) (3.0.4)\n",
            "Requirement already satisfied: urllib3!=1.25.0,!=1.25.1,<1.26,>=1.21.1 in /usr/local/lib/python3.7/dist-packages (from requests->torchtext==0.14.0) (1.24.3)\n",
            "Requirement already satisfied: idna<3,>=2.5 in /usr/local/lib/python3.7/dist-packages (from requests->torchtext==0.14.0) (2.10)\n"
          ]
        }
      ]
    },
    {
      "cell_type": "code",
      "execution_count": 17,
      "metadata": {
        "id": "6v7adKyjZzjU"
      },
      "outputs": [],
      "source": [
        "import numpy as np\n",
        "import matplotlib.pyplot as plt\n",
        "\n",
        "import torch\n",
        "import torch.nn as nn\n",
        "import torch.nn.functional as F\n",
        "import torch.optim as optim\n",
        "from torch.utils.data import DataLoader\n",
        "import torchvision\n",
        "from torchvision import datasets, transforms\n"
      ]
    },
    {
      "cell_type": "code",
      "execution_count": 18,
      "metadata": {
        "id": "o1ojackiZzjV",
        "colab": {
          "base_uri": "https://localhost:8080/",
          "height": 439,
          "referenced_widgets": [
            "c0b997acdf0d4091a15c4709800eacad",
            "3cfcbb931ba04d98b76f2a3309e72248",
            "fe9867dbf15547499996c3eac13a4c9c",
            "8f39b67e05084b34b69a0d59bb331e9d",
            "479092e355fe4073a0b27ee7f55af754",
            "4a49935898704d2dac762ff583459cba",
            "d342ad3934874775bca0259cc4b9cb0c",
            "c6aed0c9bc8e461693a85e1a3327c6aa",
            "7accc11a058843fbb8fb81b3cc9f310b",
            "44d4f284fe514b47a29377db680cfdf4",
            "aade27a4ace147619667d8053ce709c7",
            "b58580bab94d4dcfb88652921b31b06c",
            "f909a1ea34294450923cbac184e731e0",
            "39f5181b787a430896a8c5c4453139de",
            "372209798b4d4a408ddadb4769900582",
            "27b27d71a263446595f5a76940618610",
            "45e9950cdbd141908cc905ef46919089",
            "ad6ea30406ef403c8a5b7f178bde411e",
            "37d815c367954d53bb977ea9887df229",
            "69c7c3c9f0b94ca498964826bbd09470",
            "4fd35af71a6149d0af4a37af3fafc521",
            "84c4ad9c379142069d7f707acfffad52",
            "6a4e9e3b9fa244ddbfa3da93f518bf4f",
            "1a578df0e800488a95188181285ceca6",
            "dd9f793bfd2b41eabb7d487246670a53",
            "1279ccd11cae400daa7f2c17188b1051",
            "935fc7ee67d6440690fbe42e981998a3",
            "930533427ecf42fb988cc458a2fb33ff",
            "5c1fd85ce5e04f75b98396a9010c6295",
            "64899286882a446c85e6e927827bef45",
            "1c8f50e18f474fce958e2e76f4394969",
            "3524bec7f3294908ad6770417a94446a",
            "91e03a49f1cc41e3b059937402180eb1",
            "4cf94e083c084b0d8ec0cf51399f8dcf",
            "e83cfe65bbde43568d1716b921332cc4",
            "fa04925ee65e444f8a96bd2d30c835eb",
            "3c805a15c6ec490bb7fc7935463bec01",
            "42a1061486cb40bea087b083853461cd",
            "9177afefd6574ed58b6109479437d457",
            "833bb11a6d604121b515665880827413",
            "4c07d8563348459687c96689d6ff8488",
            "64a7d32c3516426c96a835742da89058",
            "a636e62b294b454aa2d84f30357ff15f",
            "4ae3ad7b823348699e42ef0b5783e3f3"
          ]
        },
        "outputId": "05358a39-c341-456a-dab9-de24bd5f04f9"
      },
      "outputs": [
        {
          "output_type": "stream",
          "name": "stdout",
          "text": [
            "Downloading http://yann.lecun.com/exdb/mnist/train-images-idx3-ubyte.gz\n",
            "Downloading http://yann.lecun.com/exdb/mnist/train-images-idx3-ubyte.gz to data/MNIST/raw/train-images-idx3-ubyte.gz\n"
          ]
        },
        {
          "output_type": "display_data",
          "data": {
            "text/plain": [
              "  0%|          | 0/9912422 [00:00<?, ?it/s]"
            ],
            "application/vnd.jupyter.widget-view+json": {
              "version_major": 2,
              "version_minor": 0,
              "model_id": "c0b997acdf0d4091a15c4709800eacad"
            }
          },
          "metadata": {}
        },
        {
          "output_type": "stream",
          "name": "stdout",
          "text": [
            "Extracting data/MNIST/raw/train-images-idx3-ubyte.gz to data/MNIST/raw\n",
            "\n",
            "Downloading http://yann.lecun.com/exdb/mnist/train-labels-idx1-ubyte.gz\n",
            "Downloading http://yann.lecun.com/exdb/mnist/train-labels-idx1-ubyte.gz to data/MNIST/raw/train-labels-idx1-ubyte.gz\n"
          ]
        },
        {
          "output_type": "display_data",
          "data": {
            "text/plain": [
              "  0%|          | 0/28881 [00:00<?, ?it/s]"
            ],
            "application/vnd.jupyter.widget-view+json": {
              "version_major": 2,
              "version_minor": 0,
              "model_id": "b58580bab94d4dcfb88652921b31b06c"
            }
          },
          "metadata": {}
        },
        {
          "output_type": "stream",
          "name": "stdout",
          "text": [
            "Extracting data/MNIST/raw/train-labels-idx1-ubyte.gz to data/MNIST/raw\n",
            "\n",
            "Downloading http://yann.lecun.com/exdb/mnist/t10k-images-idx3-ubyte.gz\n",
            "Downloading http://yann.lecun.com/exdb/mnist/t10k-images-idx3-ubyte.gz to data/MNIST/raw/t10k-images-idx3-ubyte.gz\n"
          ]
        },
        {
          "output_type": "display_data",
          "data": {
            "text/plain": [
              "  0%|          | 0/1648877 [00:00<?, ?it/s]"
            ],
            "application/vnd.jupyter.widget-view+json": {
              "version_major": 2,
              "version_minor": 0,
              "model_id": "6a4e9e3b9fa244ddbfa3da93f518bf4f"
            }
          },
          "metadata": {}
        },
        {
          "output_type": "stream",
          "name": "stdout",
          "text": [
            "Extracting data/MNIST/raw/t10k-images-idx3-ubyte.gz to data/MNIST/raw\n",
            "\n",
            "Downloading http://yann.lecun.com/exdb/mnist/t10k-labels-idx1-ubyte.gz\n",
            "Downloading http://yann.lecun.com/exdb/mnist/t10k-labels-idx1-ubyte.gz to data/MNIST/raw/t10k-labels-idx1-ubyte.gz\n"
          ]
        },
        {
          "output_type": "display_data",
          "data": {
            "text/plain": [
              "  0%|          | 0/4542 [00:00<?, ?it/s]"
            ],
            "application/vnd.jupyter.widget-view+json": {
              "version_major": 2,
              "version_minor": 0,
              "model_id": "4cf94e083c084b0d8ec0cf51399f8dcf"
            }
          },
          "metadata": {}
        },
        {
          "output_type": "stream",
          "name": "stdout",
          "text": [
            "Extracting data/MNIST/raw/t10k-labels-idx1-ubyte.gz to data/MNIST/raw\n",
            "\n"
          ]
        }
      ],
      "source": [
        "# torchvision contains convinience functions for popular datasets\n",
        "ds_train = datasets.MNIST('data', train=True, download=True)"
      ]
    },
    {
      "cell_type": "markdown",
      "metadata": {
        "id": "lcZmxucXZzjV"
      },
      "source": [
        "Each sample is a 28x28 image"
      ]
    },
    {
      "cell_type": "code",
      "execution_count": 19,
      "metadata": {
        "id": "bUwABzIHZzjV",
        "colab": {
          "base_uri": "https://localhost:8080/",
          "height": 155
        },
        "outputId": "fa090705-6978-4558-9742-308809c6a088"
      },
      "outputs": [
        {
          "output_type": "stream",
          "name": "stdout",
          "text": [
            "(<PIL.Image.Image image mode=L size=28x28 at 0x7FEDC1FE3B10>, 5)\n"
          ]
        },
        {
          "output_type": "execute_result",
          "data": {
            "text/plain": [
              "<PIL.Image.Image image mode=L size=120x120 at 0x7FEDBFF5A7D0>"
            ],
            "image/png": "[encoded data removed]"
          },
          "metadata": {},
          "execution_count": 19
        }
      ],
      "source": [
        "# if we index this dataset, we get a single data point: a PIL image and an Integer\n",
        "print(ds_train[0])\n",
        "ds_train[0][0].resize((120,120))"
      ]
    },
    {
      "cell_type": "markdown",
      "metadata": {
        "id": "7rQWkg-LZzjW"
      },
      "source": [
        "Let's transform the data to something that our Pytorch models will understand\n",
        "for this purpose, we can supply a transform function to the datase"
      ]
    },
    {
      "cell_type": "code",
      "execution_count": 20,
      "metadata": {
        "id": "VarrjyMfZzjW"
      },
      "outputs": [],
      "source": [
        "transform = transforms.Compose([\n",
        "    transforms.ToTensor(),\n",
        "])\n",
        "ds_train = datasets.MNIST('data', train=True, download=True, transform=transform)"
      ]
    },
    {
      "cell_type": "markdown",
      "metadata": {
        "id": "m0v0NvFBZzjX"
      },
      "source": [
        "The image is now a `torch.Tensor`"
      ]
    },
    {
      "cell_type": "code",
      "execution_count": 21,
      "metadata": {
        "id": "qFLahChYZzjX",
        "colab": {
          "base_uri": "https://localhost:8080/"
        },
        "outputId": "ba577fe0-1f5c-4b51-a5c0-fe904c78adbc"
      },
      "outputs": [
        {
          "output_type": "execute_result",
          "data": {
            "text/plain": [
              "torch.Tensor"
            ]
          },
          "metadata": {},
          "execution_count": 21
        }
      ],
      "source": [
        "type(ds_train[0][0])"
      ]
    },
    {
      "cell_type": "markdown",
      "metadata": {
        "id": "XkxsAkTTZzjX"
      },
      "source": [
        "The normalization is something you learned about in the lecture. Normalizing with $\\mu=0, \\sigma=1$ corresponds to no normalization. Let's compute the proper normalization constants!"
      ]
    },
    {
      "cell_type": "code",
      "execution_count": 22,
      "metadata": {
        "id": "-i-7uHIoZzjY"
      },
      "outputs": [],
      "source": [
        "# lets get only the images \n",
        "ims_train = ds_train.data\n",
        "ims_train = ims_train.float() / 255."
      ]
    },
    {
      "cell_type": "code",
      "execution_count": 23,
      "metadata": {
        "id": "-MlpuI7qZzjY"
      },
      "outputs": [],
      "source": [
        "#########################################################################\n",
        "# TODO: calculate the mean and std of MNIST images\n",
        "# hint: to look for operations on pytorch tensor, refer to the official PyTorch docs \n",
        "# https://pytorch.org/docs/stable/\n",
        "#########################################################################\n",
        "mu = 0.0\n",
        "std = 1.0\n",
        "\n",
        "mu = ims_train.mean()\n",
        "std = ims_train.std()"
      ]
    },
    {
      "cell_type": "markdown",
      "metadata": {
        "id": "0LcJcJEwZzjY"
      },
      "source": [
        "We normalize the data as below."
      ]
    },
    {
      "cell_type": "code",
      "execution_count": 24,
      "metadata": {
        "id": "mbnkHF3uZzjY"
      },
      "outputs": [],
      "source": [
        "transform = transforms.Compose([\n",
        "    transforms.ToTensor(),\n",
        "    transforms.Normalize(mu, std)\n",
        "])\n",
        "ds_train = datasets.MNIST('data', train=True, download=True, transform=transform)\n",
        "ds_test = datasets.MNIST('data', train=False, download=True, transform=transform)"
      ]
    },
    {
      "cell_type": "code",
      "execution_count": 25,
      "metadata": {
        "id": "66Q_nZrsZzjY",
        "colab": {
          "base_uri": "https://localhost:8080/"
        },
        "outputId": "cf177a25-fc6d-4421-abbf-8b2ddf18874f"
      },
      "outputs": [
        {
          "output_type": "execute_result",
          "data": {
            "text/plain": [
              "(tensor(-0.4241), tensor(2.8215))"
            ]
          },
          "metadata": {},
          "execution_count": 25
        }
      ],
      "source": [
        "ds_train[0][0].min(), ds_train[0][0].max()"
      ]
    },
    {
      "cell_type": "markdown",
      "metadata": {
        "id": "QRkzM-PRZzjY"
      },
      "source": [
        "Next, we want to receive mini-batches, not only single data points.\n",
        "We use PyTorch's DataLoader class. Build a dataloader with a batch size of 64 and 4 workers (number of subprocess that peform the dataloading). Important: you need to shuffle the training data, not the test data.\n",
        "\n",
        "**NOTE**: if you encounter some unexpected errors in data loading, try setting `NUM_WORKERS = 0`"
      ]
    },
    {
      "cell_type": "code",
      "execution_count": 26,
      "metadata": {
        "id": "hSpM3RHEZzjY"
      },
      "outputs": [],
      "source": [
        "BATCH_SIZE = 64\n",
        "NUM_WORKERS = 4\n",
        "#########################################################################\n",
        "# TODO: Build a dataloader for both train and test data.\n",
        "#########################################################################\n",
        "dl_train = DataLoader(ds_train, batch_size=BATCH_SIZE, num_workers=NUM_WORKERS, shuffle = True)\n",
        "\n",
        "dl_test  = DataLoader(ds_test, batch_size=BATCH_SIZE, num_workers=NUM_WORKERS, shuffle = True)"
      ]
    },
    {
      "cell_type": "markdown",
      "metadata": {
        "id": "D4QiilS3ZzjY"
      },
      "source": [
        "## MLP in Pytorch\n",
        "\n",
        "Ok, the dataloading works. Let's build our model, PyTorch makes this very easy. We will build replicate the model from our last exercises. However, now, we add another variable called `nLayer` that indicates how many linear layers that in your network. Please adapt your code from last exercise accordingly to allow different number of layers."
      ]
    },
    {
      "cell_type": "code",
      "execution_count": 27,
      "metadata": {
        "id": "7CFghL3oZzjY"
      },
      "outputs": [],
      "source": [
        "# These are the parameters to be used\n",
        "nInput = 784\n",
        "nOutput = 10\n",
        "nLayer = 2\n",
        "nHidden = 16\n",
        "act_fn = nn.ReLU()"
      ]
    },
    {
      "cell_type": "code",
      "execution_count": 28,
      "metadata": {
        "id": "UTcwGxO4ZzjZ"
      },
      "outputs": [],
      "source": [
        "#########################################################################\n",
        "# TODO: Implement the __init__ of the MLP class. \n",
        "# insert the activation after every linear layer. Important: the number of \n",
        "# hidden layers should be variable!\n",
        "#########################################################################\n",
        "\n",
        "class MLP(nn.Module):\n",
        "    def __init__(self, nInput, nOutput, nLayer, nHidden, act_fn):\n",
        "        super(MLP, self).__init__()\n",
        "        layers = [] \n",
        "        \n",
        "        ##### implement this part #####\n",
        "        layers.append(nn.Linear(nInput,nHidden))\n",
        "        layers.append(act_fn)\n",
        "        for i in range(nLayer):\n",
        "            layers.append(nn.Linear(nHidden,nHidden))\n",
        "            layers.append(act_fn)\n",
        "        layers.append(nn.Linear(nHidden,nOutput))\n",
        "        layers.append(act_fn)\n",
        "        ###############################\n",
        "        \n",
        "        self.model = nn.Sequential(*layers)\n",
        "\n",
        "    def forward(self, x):\n",
        "        x = torch.flatten(x, 1)\n",
        "        return self.model(x)"
      ]
    },
    {
      "cell_type": "code",
      "execution_count": 29,
      "metadata": {
        "scrolled": true,
        "id": "FecJf6eBZzjZ",
        "colab": {
          "base_uri": "https://localhost:8080/"
        },
        "outputId": "6c137482-d2ff-479c-83b8-217a7a4be2c2"
      },
      "outputs": [
        {
          "output_type": "execute_result",
          "data": {
            "text/plain": [
              "torch.Size([1, 10])"
            ]
          },
          "metadata": {},
          "execution_count": 29
        }
      ],
      "source": [
        "# Let's test if the forward pass works\n",
        "# this should print torch.Size([1, 10])\n",
        "t = torch.randn(1,1,28,28)\n",
        "mlp = MLP(nInput, nOutput, nLayer, nHidden, act_fn)\n",
        "mlp(t).shape"
      ]
    },
    {
      "cell_type": "code",
      "execution_count": 30,
      "metadata": {
        "id": "R9gP__XcZzjZ",
        "colab": {
          "base_uri": "https://localhost:8080/"
        },
        "outputId": "1e5d6833-8f8a-41c6-9d76-7c7f9c083c8a"
      },
      "outputs": [
        {
          "output_type": "execute_result",
          "data": {
            "text/plain": [
              "MLP(\n",
              "  (model): Sequential(\n",
              "    (0): Linear(in_features=784, out_features=16, bias=True)\n",
              "    (1): ReLU()\n",
              "    (2): Linear(in_features=16, out_features=16, bias=True)\n",
              "    (3): ReLU()\n",
              "    (4): Linear(in_features=16, out_features=16, bias=True)\n",
              "    (5): ReLU()\n",
              "    (6): Linear(in_features=16, out_features=10, bias=True)\n",
              "    (7): ReLU()\n",
              "  )\n",
              ")"
            ]
          },
          "metadata": {},
          "execution_count": 30
        }
      ],
      "source": [
        "mlp"
      ]
    },
    {
      "cell_type": "markdown",
      "metadata": {
        "id": "7fQsqwCmZzjZ"
      },
      "source": [
        "We already implemented the test function for you"
      ]
    },
    {
      "cell_type": "code",
      "execution_count": 31,
      "metadata": {
        "id": "uWD7OHC0ZzjZ"
      },
      "outputs": [],
      "source": [
        "def test(model, dl_test, device='cpu'):\n",
        "    model.eval()\n",
        "    test_loss = 0\n",
        "    correct = 0\n",
        "    with torch.no_grad():\n",
        "        for data, target in dl_test:\n",
        "            data, target = data.to(device), target.to(device)\n",
        "            output = model(data)\n",
        "            test_loss += F.cross_entropy(output, target, reduction='sum').item()  # sum up batch loss\n",
        "            pred = output.argmax(dim=1, keepdim=True)  # get the index of the max log-probability\n",
        "            correct += pred.eq(target.view_as(pred)).sum().item()\n",
        "\n",
        "    test_loss /= len(dl_test.dataset)\n",
        "\n",
        "    print('\\nTest set: Average loss: {:.4f}, Accuracy: {}/{} ({:.3f}%)\\n'.format(\n",
        "        test_loss, correct, len(dl_test.dataset),\n",
        "        100. * correct / len(dl_test.dataset)))"
      ]
    },
    {
      "cell_type": "markdown",
      "metadata": {
        "id": "IrQUnSwSZzja"
      },
      "source": [
        "Now you only need to implement the training and you are good to go"
      ]
    },
    {
      "cell_type": "code",
      "execution_count": 32,
      "metadata": {
        "id": "iVHXaaRgZzja"
      },
      "outputs": [],
      "source": [
        "#########################################################################\n",
        "# TODO: Implement the missing part of the training function. As a loss function we want to use cross entropy\n",
        "# It can be called with F.cross_entropy().\n",
        "# Hint: Pass through the model -> Backpropagate gradients -> Take gradient step\n",
        "#########################################################################\n",
        "\n",
        "def train(model, dl_train, optimizer, epoch, log_interval=100, device='cpu'):\n",
        "    model.train()\n",
        "    correct = 0\n",
        "    for batch_idx, (data, target) in enumerate(dl_train):\n",
        "        data, target = data.to(device), target.to(device)\n",
        "        \n",
        "        # first we need to zero the gradient, otherwise PyTorch would accumulate them\n",
        "        optimizer.zero_grad()         \n",
        "        \n",
        "        ##### implement this part #####\n",
        "        output = model(data)\n",
        "        loss = F.cross_entropy(output, target, reduction='sum')\n",
        "        loss.backward()\n",
        "        optimizer.step()\n",
        "        ###############################\n",
        "\n",
        "        # stats\n",
        "        pred = output.argmax(dim=1, keepdim=True)  # get the index of the max log-probability\n",
        "        correct += pred.eq(target.view_as(pred)).sum().item()\n",
        "\n",
        "        if batch_idx % log_interval == 0:\n",
        "            print('Train Epoch: {} [{}/{} ({:.0f}%)]\\tLoss: {:.6f}'.format(\n",
        "                epoch, batch_idx * len(data), len(dl_train.dataset),\n",
        "                100. * batch_idx / len(dl_train), loss.item()))\n",
        "\n",
        "    print('\\nTrain set: Average loss: {:.4f}, Accuracy: {}/{} ({:.1f}%)\\n'.format(\n",
        "        loss, correct, len(dl_train.dataset),\n",
        "        100. * correct / len(dl_train.dataset)))"
      ]
    },
    {
      "cell_type": "markdown",
      "metadata": {
        "id": "K_qLT67qZzjb"
      },
      "source": [
        "Ok, the setup is almost done. The onoly missing part is the optimizer. We are going to use Adam."
      ]
    },
    {
      "cell_type": "code",
      "execution_count": 33,
      "metadata": {
        "id": "8XrrabxwZzjb"
      },
      "outputs": [],
      "source": [
        "# reinitialize the mlp, so we can play with parameters right here\n",
        "mlp = MLP(nInput, nOutput, nLayer, nHidden, act_fn)\n",
        "optimizer = optim.Adam(mlp.parameters())"
      ]
    },
    {
      "cell_type": "code",
      "execution_count": 52,
      "metadata": {
        "scrolled": true,
        "id": "outugUj0Zzjb",
        "colab": {
          "base_uri": "https://localhost:8080/"
        },
        "outputId": "4ca8b3e0-3a47-450c-83c2-9e0470b45998"
      },
      "outputs": [
        {
          "output_type": "stream",
          "name": "stdout",
          "text": [
            "Train Epoch: 1 [0/60000 (0%)]\tLoss: 149.514175\n",
            "Train Epoch: 1 [6400/60000 (11%)]\tLoss: 81.941849\n",
            "Train Epoch: 1 [12800/60000 (21%)]\tLoss: 59.787033\n",
            "Train Epoch: 1 [19200/60000 (32%)]\tLoss: 37.000931\n",
            "Train Epoch: 1 [25600/60000 (43%)]\tLoss: 29.810465\n",
            "Train Epoch: 1 [32000/60000 (53%)]\tLoss: 39.626057\n",
            "Train Epoch: 1 [38400/60000 (64%)]\tLoss: 38.803604\n",
            "Train Epoch: 1 [44800/60000 (75%)]\tLoss: 41.568283\n",
            "Train Epoch: 1 [51200/60000 (85%)]\tLoss: 44.079117\n",
            "Train Epoch: 1 [57600/60000 (96%)]\tLoss: 48.826645\n",
            "\n",
            "Train set: Average loss: 16.9401, Accuracy: 45947/60000 (76.6%)\n",
            "\n",
            "\n",
            "Test set: Average loss: 0.5175, Accuracy: 8783/10000 (87.830%)\n",
            "\n",
            "Train Epoch: 2 [0/60000 (0%)]\tLoss: 37.022900\n",
            "Train Epoch: 2 [6400/60000 (11%)]\tLoss: 45.741817\n",
            "Train Epoch: 2 [12800/60000 (21%)]\tLoss: 37.025105\n",
            "Train Epoch: 2 [19200/60000 (32%)]\tLoss: 40.920113\n",
            "Train Epoch: 2 [25600/60000 (43%)]\tLoss: 19.524893\n",
            "Train Epoch: 2 [32000/60000 (53%)]\tLoss: 36.100945\n",
            "Train Epoch: 2 [38400/60000 (64%)]\tLoss: 39.842049\n",
            "Train Epoch: 2 [44800/60000 (75%)]\tLoss: 38.060509\n",
            "Train Epoch: 2 [51200/60000 (85%)]\tLoss: 27.827370\n",
            "Train Epoch: 2 [57600/60000 (96%)]\tLoss: 22.836559\n",
            "\n",
            "Train set: Average loss: 22.7773, Accuracy: 53470/60000 (89.1%)\n",
            "\n",
            "\n",
            "Test set: Average loss: 0.4624, Accuracy: 9087/10000 (90.870%)\n",
            "\n",
            "Train Epoch: 3 [0/60000 (0%)]\tLoss: 30.873007\n",
            "Train Epoch: 3 [6400/60000 (11%)]\tLoss: 39.262909\n",
            "Train Epoch: 3 [12800/60000 (21%)]\tLoss: 33.037624\n",
            "Train Epoch: 3 [19200/60000 (32%)]\tLoss: 27.391134\n",
            "Train Epoch: 3 [25600/60000 (43%)]\tLoss: 28.245312\n",
            "Train Epoch: 3 [32000/60000 (53%)]\tLoss: 29.739981\n",
            "Train Epoch: 3 [38400/60000 (64%)]\tLoss: 18.359928\n",
            "Train Epoch: 3 [44800/60000 (75%)]\tLoss: 20.702383\n",
            "Train Epoch: 3 [51200/60000 (85%)]\tLoss: 37.585678\n",
            "Train Epoch: 3 [57600/60000 (96%)]\tLoss: 23.650553\n",
            "\n",
            "Train set: Average loss: 7.3992, Accuracy: 54649/60000 (91.1%)\n",
            "\n",
            "\n",
            "Test set: Average loss: 0.4528, Accuracy: 9175/10000 (91.750%)\n",
            "\n",
            "Train Epoch: 4 [0/60000 (0%)]\tLoss: 15.962980\n",
            "Train Epoch: 4 [6400/60000 (11%)]\tLoss: 23.887493\n",
            "Train Epoch: 4 [12800/60000 (21%)]\tLoss: 24.938379\n",
            "Train Epoch: 4 [19200/60000 (32%)]\tLoss: 39.261978\n",
            "Train Epoch: 4 [25600/60000 (43%)]\tLoss: 27.044060\n",
            "Train Epoch: 4 [32000/60000 (53%)]\tLoss: 40.829830\n",
            "Train Epoch: 4 [38400/60000 (64%)]\tLoss: 20.575678\n",
            "Train Epoch: 4 [44800/60000 (75%)]\tLoss: 32.849129\n",
            "Train Epoch: 4 [51200/60000 (85%)]\tLoss: 22.262766\n",
            "Train Epoch: 4 [57600/60000 (96%)]\tLoss: 30.064644\n",
            "\n",
            "Train set: Average loss: 18.8487, Accuracy: 55234/60000 (92.1%)\n",
            "\n",
            "\n",
            "Test set: Average loss: 0.4428, Accuracy: 9211/10000 (92.110%)\n",
            "\n",
            "Train Epoch: 5 [0/60000 (0%)]\tLoss: 26.136171\n",
            "Train Epoch: 5 [6400/60000 (11%)]\tLoss: 20.187952\n",
            "Train Epoch: 5 [12800/60000 (21%)]\tLoss: 43.076607\n",
            "Train Epoch: 5 [19200/60000 (32%)]\tLoss: 30.773222\n",
            "Train Epoch: 5 [25600/60000 (43%)]\tLoss: 21.686745\n",
            "Train Epoch: 5 [32000/60000 (53%)]\tLoss: 20.637535\n",
            "Train Epoch: 5 [38400/60000 (64%)]\tLoss: 32.901398\n",
            "Train Epoch: 5 [44800/60000 (75%)]\tLoss: 13.877991\n",
            "Train Epoch: 5 [51200/60000 (85%)]\tLoss: 27.431387\n",
            "Train Epoch: 5 [57600/60000 (96%)]\tLoss: 32.150063\n",
            "\n",
            "Train set: Average loss: 10.5345, Accuracy: 55752/60000 (92.9%)\n",
            "\n",
            "\n",
            "Test set: Average loss: 0.4212, Accuracy: 9334/10000 (93.340%)\n",
            "\n",
            "Train Epoch: 6 [0/60000 (0%)]\tLoss: 21.008024\n",
            "Train Epoch: 6 [6400/60000 (11%)]\tLoss: 24.725513\n",
            "Train Epoch: 6 [12800/60000 (21%)]\tLoss: 27.794195\n",
            "Train Epoch: 6 [19200/60000 (32%)]\tLoss: 18.045282\n",
            "Train Epoch: 6 [25600/60000 (43%)]\tLoss: 50.327705\n",
            "Train Epoch: 6 [32000/60000 (53%)]\tLoss: 18.896706\n",
            "Train Epoch: 6 [38400/60000 (64%)]\tLoss: 19.074484\n",
            "Train Epoch: 6 [44800/60000 (75%)]\tLoss: 23.457014\n",
            "Train Epoch: 6 [51200/60000 (85%)]\tLoss: 14.441658\n",
            "Train Epoch: 6 [57600/60000 (96%)]\tLoss: 31.115074\n",
            "\n",
            "Train set: Average loss: 13.7190, Accuracy: 56036/60000 (93.4%)\n",
            "\n",
            "\n",
            "Test set: Average loss: 0.4148, Accuracy: 9333/10000 (93.330%)\n",
            "\n",
            "Train Epoch: 7 [0/60000 (0%)]\tLoss: 27.804445\n",
            "Train Epoch: 7 [6400/60000 (11%)]\tLoss: 27.956720\n",
            "Train Epoch: 7 [12800/60000 (21%)]\tLoss: 51.051174\n",
            "Train Epoch: 7 [19200/60000 (32%)]\tLoss: 43.544147\n",
            "Train Epoch: 7 [25600/60000 (43%)]\tLoss: 23.048538\n",
            "Train Epoch: 7 [32000/60000 (53%)]\tLoss: 21.866297\n",
            "Train Epoch: 7 [38400/60000 (64%)]\tLoss: 24.135239\n",
            "Train Epoch: 7 [44800/60000 (75%)]\tLoss: 21.280672\n",
            "Train Epoch: 7 [51200/60000 (85%)]\tLoss: 34.355782\n",
            "Train Epoch: 7 [57600/60000 (96%)]\tLoss: 32.706100\n",
            "\n",
            "Train set: Average loss: 13.8122, Accuracy: 56224/60000 (93.7%)\n",
            "\n",
            "\n",
            "Test set: Average loss: 0.4144, Accuracy: 9321/10000 (93.210%)\n",
            "\n",
            "Train Epoch: 8 [0/60000 (0%)]\tLoss: 23.461792\n",
            "Train Epoch: 8 [6400/60000 (11%)]\tLoss: 14.139439\n",
            "Train Epoch: 8 [12800/60000 (21%)]\tLoss: 26.385534\n",
            "Train Epoch: 8 [19200/60000 (32%)]\tLoss: 16.528540\n",
            "Train Epoch: 8 [25600/60000 (43%)]\tLoss: 23.539137\n",
            "Train Epoch: 8 [32000/60000 (53%)]\tLoss: 28.540949\n",
            "Train Epoch: 8 [38400/60000 (64%)]\tLoss: 17.676165\n",
            "Train Epoch: 8 [44800/60000 (75%)]\tLoss: 20.681791\n",
            "Train Epoch: 8 [51200/60000 (85%)]\tLoss: 19.456610\n",
            "Train Epoch: 8 [57600/60000 (96%)]\tLoss: 30.833025\n",
            "\n",
            "Train set: Average loss: 13.7740, Accuracy: 56398/60000 (94.0%)\n",
            "\n",
            "\n",
            "Test set: Average loss: 0.4022, Accuracy: 9397/10000 (93.970%)\n",
            "\n",
            "Train Epoch: 9 [0/60000 (0%)]\tLoss: 27.463411\n",
            "Train Epoch: 9 [6400/60000 (11%)]\tLoss: 34.286980\n",
            "Train Epoch: 9 [12800/60000 (21%)]\tLoss: 16.280886\n",
            "Train Epoch: 9 [19200/60000 (32%)]\tLoss: 19.915110\n",
            "Train Epoch: 9 [25600/60000 (43%)]\tLoss: 27.668774\n",
            "Train Epoch: 9 [32000/60000 (53%)]\tLoss: 21.282648\n",
            "Train Epoch: 9 [38400/60000 (64%)]\tLoss: 20.772085\n",
            "Train Epoch: 9 [44800/60000 (75%)]\tLoss: 28.596064\n",
            "Train Epoch: 9 [51200/60000 (85%)]\tLoss: 25.917938\n",
            "Train Epoch: 9 [57600/60000 (96%)]\tLoss: 20.609846\n",
            "\n",
            "Train set: Average loss: 16.8624, Accuracy: 56564/60000 (94.3%)\n",
            "\n",
            "\n",
            "Test set: Average loss: 0.4001, Accuracy: 9407/10000 (94.070%)\n",
            "\n",
            "Train Epoch: 10 [0/60000 (0%)]\tLoss: 35.207138\n",
            "Train Epoch: 10 [6400/60000 (11%)]\tLoss: 31.383951\n",
            "Train Epoch: 10 [12800/60000 (21%)]\tLoss: 26.657415\n",
            "Train Epoch: 10 [19200/60000 (32%)]\tLoss: 19.677319\n",
            "Train Epoch: 10 [25600/60000 (43%)]\tLoss: 33.326447\n",
            "Train Epoch: 10 [32000/60000 (53%)]\tLoss: 21.856087\n",
            "Train Epoch: 10 [38400/60000 (64%)]\tLoss: 29.697470\n",
            "Train Epoch: 10 [44800/60000 (75%)]\tLoss: 20.439707\n",
            "Train Epoch: 10 [51200/60000 (85%)]\tLoss: 31.444529\n",
            "Train Epoch: 10 [57600/60000 (96%)]\tLoss: 9.106261\n",
            "\n",
            "Train set: Average loss: 9.7901, Accuracy: 56708/60000 (94.5%)\n",
            "\n",
            "\n",
            "Test set: Average loss: 0.3961, Accuracy: 9434/10000 (94.340%)\n",
            "\n",
            "Training is finished.\n"
          ]
        }
      ],
      "source": [
        "epochs = 10\n",
        "for epoch in range(1, epochs + 1):\n",
        "    train(mlp, dl_train, optimizer, epoch, log_interval=100)\n",
        "    test(mlp, dl_test)\n",
        "\n",
        "print ('Training is finished.')"
      ]
    },
    {
      "cell_type": "markdown",
      "metadata": {
        "id": "Ej9rkuuqZzjb"
      },
      "source": [
        "After training, you should see test accuracies of > **94%** - By they way, here we report test accuracy, the last exercises reported test error. Accuracy is simply (1 - error). Both metrics are commonly reported, there is no clear preference in literature for one or the other."
      ]
    },
    {
      "cell_type": "markdown",
      "metadata": {
        "id": "MYKScEDHZzjb"
      },
      "source": [
        "Now, can you do some parameter tuning to boost the test accuracy to > **97%**?"
      ]
    },
    {
      "cell_type": "code",
      "execution_count": 34,
      "metadata": {
        "id": "qMIQDa8SZzjb",
        "colab": {
          "base_uri": "https://localhost:8080/"
        },
        "outputId": "42854c06-9b99-4896-c193-2e2c7164041f"
      },
      "outputs": [
        {
          "output_type": "stream",
          "name": "stdout",
          "text": [
            "Train Epoch: 1 [0/60000 (0%)]\tLoss: 147.420151\n",
            "Train Epoch: 1 [6400/60000 (11%)]\tLoss: 44.733799\n",
            "Train Epoch: 1 [12800/60000 (21%)]\tLoss: 30.729214\n",
            "Train Epoch: 1 [19200/60000 (32%)]\tLoss: 28.581167\n",
            "Train Epoch: 1 [25600/60000 (43%)]\tLoss: 31.265800\n",
            "Train Epoch: 1 [32000/60000 (53%)]\tLoss: 29.993563\n",
            "Train Epoch: 1 [38400/60000 (64%)]\tLoss: 30.122778\n",
            "Train Epoch: 1 [44800/60000 (75%)]\tLoss: 34.912430\n",
            "Train Epoch: 1 [51200/60000 (85%)]\tLoss: 27.397415\n",
            "Train Epoch: 1 [57600/60000 (96%)]\tLoss: 23.034258\n",
            "\n",
            "Train set: Average loss: 11.1658, Accuracy: 49130/60000 (81.9%)\n",
            "\n",
            "\n",
            "Test set: Average loss: 0.1858, Accuracy: 9428/10000 (94.280%)\n",
            "\n",
            "Train Epoch: 2 [0/60000 (0%)]\tLoss: 11.260218\n",
            "Train Epoch: 2 [6400/60000 (11%)]\tLoss: 5.092809\n",
            "Train Epoch: 2 [12800/60000 (21%)]\tLoss: 4.077040\n",
            "Train Epoch: 2 [19200/60000 (32%)]\tLoss: 11.511681\n",
            "Train Epoch: 2 [25600/60000 (43%)]\tLoss: 11.716732\n",
            "Train Epoch: 2 [32000/60000 (53%)]\tLoss: 14.274639\n",
            "Train Epoch: 2 [38400/60000 (64%)]\tLoss: 9.170822\n",
            "Train Epoch: 2 [44800/60000 (75%)]\tLoss: 20.246899\n",
            "Train Epoch: 2 [51200/60000 (85%)]\tLoss: 26.577595\n",
            "Train Epoch: 2 [57600/60000 (96%)]\tLoss: 2.013252\n",
            "\n",
            "Train set: Average loss: 0.8777, Accuracy: 57317/60000 (95.5%)\n",
            "\n",
            "\n",
            "Test set: Average loss: 0.1239, Accuracy: 9611/10000 (96.110%)\n",
            "\n",
            "Train Epoch: 3 [0/60000 (0%)]\tLoss: 8.401693\n",
            "Train Epoch: 3 [6400/60000 (11%)]\tLoss: 9.805038\n",
            "Train Epoch: 3 [12800/60000 (21%)]\tLoss: 5.100706\n",
            "Train Epoch: 3 [19200/60000 (32%)]\tLoss: 8.551440\n",
            "Train Epoch: 3 [25600/60000 (43%)]\tLoss: 16.397129\n",
            "Train Epoch: 3 [32000/60000 (53%)]\tLoss: 15.319054\n",
            "Train Epoch: 3 [38400/60000 (64%)]\tLoss: 1.546719\n",
            "Train Epoch: 3 [44800/60000 (75%)]\tLoss: 2.175367\n",
            "Train Epoch: 3 [51200/60000 (85%)]\tLoss: 11.349583\n",
            "Train Epoch: 3 [57600/60000 (96%)]\tLoss: 1.705594\n",
            "\n",
            "Train set: Average loss: 5.3890, Accuracy: 58093/60000 (96.8%)\n",
            "\n",
            "\n",
            "Test set: Average loss: 0.1043, Accuracy: 9679/10000 (96.790%)\n",
            "\n",
            "Train Epoch: 4 [0/60000 (0%)]\tLoss: 7.726164\n",
            "Train Epoch: 4 [6400/60000 (11%)]\tLoss: 1.282796\n",
            "Train Epoch: 4 [12800/60000 (21%)]\tLoss: 6.100742\n",
            "Train Epoch: 4 [19200/60000 (32%)]\tLoss: 3.440979\n",
            "Train Epoch: 4 [25600/60000 (43%)]\tLoss: 4.939377\n",
            "Train Epoch: 4 [32000/60000 (53%)]\tLoss: 1.614077\n",
            "Train Epoch: 4 [38400/60000 (64%)]\tLoss: 2.745864\n",
            "Train Epoch: 4 [44800/60000 (75%)]\tLoss: 7.565301\n",
            "Train Epoch: 4 [51200/60000 (85%)]\tLoss: 22.712725\n",
            "Train Epoch: 4 [57600/60000 (96%)]\tLoss: 9.664017\n",
            "\n",
            "Train set: Average loss: 1.2386, Accuracy: 58302/60000 (97.2%)\n",
            "\n",
            "\n",
            "Test set: Average loss: 0.0938, Accuracy: 9708/10000 (97.080%)\n",
            "\n",
            "Train Epoch: 5 [0/60000 (0%)]\tLoss: 8.941809\n",
            "Train Epoch: 5 [6400/60000 (11%)]\tLoss: 2.468029\n",
            "Train Epoch: 5 [12800/60000 (21%)]\tLoss: 10.473936\n",
            "Train Epoch: 5 [19200/60000 (32%)]\tLoss: 1.866922\n",
            "Train Epoch: 5 [25600/60000 (43%)]\tLoss: 6.830503\n",
            "Train Epoch: 5 [32000/60000 (53%)]\tLoss: 9.310988\n",
            "Train Epoch: 5 [38400/60000 (64%)]\tLoss: 6.628056\n",
            "Train Epoch: 5 [44800/60000 (75%)]\tLoss: 6.660327\n",
            "Train Epoch: 5 [51200/60000 (85%)]\tLoss: 12.148314\n",
            "Train Epoch: 5 [57600/60000 (96%)]\tLoss: 2.728682\n",
            "\n",
            "Train set: Average loss: 3.8984, Accuracy: 58649/60000 (97.7%)\n",
            "\n",
            "\n",
            "Test set: Average loss: 0.1024, Accuracy: 9694/10000 (96.940%)\n",
            "\n",
            "Train Epoch: 6 [0/60000 (0%)]\tLoss: 0.853148\n",
            "Train Epoch: 6 [6400/60000 (11%)]\tLoss: 3.246876\n",
            "Train Epoch: 6 [12800/60000 (21%)]\tLoss: 1.528889\n",
            "Train Epoch: 6 [19200/60000 (32%)]\tLoss: 11.590293\n",
            "Train Epoch: 6 [25600/60000 (43%)]\tLoss: 4.920913\n",
            "Train Epoch: 6 [32000/60000 (53%)]\tLoss: 6.229437\n",
            "Train Epoch: 6 [38400/60000 (64%)]\tLoss: 4.317936\n",
            "Train Epoch: 6 [44800/60000 (75%)]\tLoss: 7.771579\n",
            "Train Epoch: 6 [51200/60000 (85%)]\tLoss: 2.211265\n",
            "Train Epoch: 6 [57600/60000 (96%)]\tLoss: 0.289730\n",
            "\n",
            "Train set: Average loss: 0.2641, Accuracy: 58838/60000 (98.1%)\n",
            "\n",
            "\n",
            "Test set: Average loss: 0.0977, Accuracy: 9730/10000 (97.300%)\n",
            "\n",
            "Train Epoch: 7 [0/60000 (0%)]\tLoss: 3.387790\n",
            "Train Epoch: 7 [6400/60000 (11%)]\tLoss: 2.122416\n",
            "Train Epoch: 7 [12800/60000 (21%)]\tLoss: 2.514856\n",
            "Train Epoch: 7 [19200/60000 (32%)]\tLoss: 2.224767\n",
            "Train Epoch: 7 [25600/60000 (43%)]\tLoss: 2.996555\n",
            "Train Epoch: 7 [32000/60000 (53%)]\tLoss: 2.656278\n",
            "Train Epoch: 7 [38400/60000 (64%)]\tLoss: 4.170904\n",
            "Train Epoch: 7 [44800/60000 (75%)]\tLoss: 7.717188\n",
            "Train Epoch: 7 [51200/60000 (85%)]\tLoss: 6.557310\n",
            "Train Epoch: 7 [57600/60000 (96%)]\tLoss: 0.682625\n",
            "\n",
            "Train set: Average loss: 3.0727, Accuracy: 58938/60000 (98.2%)\n",
            "\n",
            "\n",
            "Test set: Average loss: 0.0849, Accuracy: 9750/10000 (97.500%)\n",
            "\n",
            "Train Epoch: 8 [0/60000 (0%)]\tLoss: 0.328106\n",
            "Train Epoch: 8 [6400/60000 (11%)]\tLoss: 1.058838\n",
            "Train Epoch: 8 [12800/60000 (21%)]\tLoss: 0.978038\n",
            "Train Epoch: 8 [19200/60000 (32%)]\tLoss: 0.119748\n",
            "Train Epoch: 8 [25600/60000 (43%)]\tLoss: 1.094722\n",
            "Train Epoch: 8 [32000/60000 (53%)]\tLoss: 3.007370\n",
            "Train Epoch: 8 [38400/60000 (64%)]\tLoss: 1.675271\n",
            "Train Epoch: 8 [44800/60000 (75%)]\tLoss: 4.318370\n",
            "Train Epoch: 8 [51200/60000 (85%)]\tLoss: 1.435049\n",
            "Train Epoch: 8 [57600/60000 (96%)]\tLoss: 8.863818\n",
            "\n",
            "Train set: Average loss: 1.2126, Accuracy: 59031/60000 (98.4%)\n",
            "\n",
            "\n",
            "Test set: Average loss: 0.0869, Accuracy: 9751/10000 (97.510%)\n",
            "\n",
            "Train Epoch: 9 [0/60000 (0%)]\tLoss: 4.522733\n",
            "Train Epoch: 9 [6400/60000 (11%)]\tLoss: 9.226721\n",
            "Train Epoch: 9 [12800/60000 (21%)]\tLoss: 0.417114\n",
            "Train Epoch: 9 [19200/60000 (32%)]\tLoss: 1.440364\n",
            "Train Epoch: 9 [25600/60000 (43%)]\tLoss: 3.255547\n",
            "Train Epoch: 9 [32000/60000 (53%)]\tLoss: 2.746766\n",
            "Train Epoch: 9 [38400/60000 (64%)]\tLoss: 1.466464\n",
            "Train Epoch: 9 [44800/60000 (75%)]\tLoss: 5.132725\n",
            "Train Epoch: 9 [51200/60000 (85%)]\tLoss: 7.058856\n",
            "Train Epoch: 9 [57600/60000 (96%)]\tLoss: 7.845270\n",
            "\n",
            "Train set: Average loss: 1.5558, Accuracy: 59159/60000 (98.6%)\n",
            "\n",
            "\n",
            "Test set: Average loss: 0.0888, Accuracy: 9753/10000 (97.530%)\n",
            "\n",
            "Train Epoch: 10 [0/60000 (0%)]\tLoss: 0.460367\n",
            "Train Epoch: 10 [6400/60000 (11%)]\tLoss: 0.790686\n",
            "Train Epoch: 10 [12800/60000 (21%)]\tLoss: 1.915989\n",
            "Train Epoch: 10 [19200/60000 (32%)]\tLoss: 7.980184\n",
            "Train Epoch: 10 [25600/60000 (43%)]\tLoss: 2.720043\n",
            "Train Epoch: 10 [32000/60000 (53%)]\tLoss: 3.978278\n",
            "Train Epoch: 10 [38400/60000 (64%)]\tLoss: 0.914701\n",
            "Train Epoch: 10 [44800/60000 (75%)]\tLoss: 5.400649\n",
            "Train Epoch: 10 [51200/60000 (85%)]\tLoss: 0.498992\n",
            "Train Epoch: 10 [57600/60000 (96%)]\tLoss: 2.092064\n",
            "\n",
            "Train set: Average loss: 3.8660, Accuracy: 59207/60000 (98.7%)\n",
            "\n",
            "\n",
            "Test set: Average loss: 0.1055, Accuracy: 9719/10000 (97.190%)\n",
            "\n",
            "Training is finished.\n"
          ]
        }
      ],
      "source": [
        "#########################################################################\n",
        "#TODO: modify the parameters below to see which setting that you can get to 97%\n",
        "#########################################################################\n",
        "nLayer = 2\n",
        "nHidden = 64\n",
        "act_fn = nn.ReLU()\n",
        "\n",
        "# reinitialize the mlp, so we can play with parameters right here\n",
        "mlp = MLP(nInput, nOutput, nLayer, nHidden, act_fn)\n",
        "optimizer = optim.Adam(mlp.parameters())\n",
        "\n",
        "epochs = 10\n",
        "for epoch in range(1, epochs + 1):\n",
        "    train(mlp, dl_train, optimizer, epoch, log_interval=100)\n",
        "    test(mlp, dl_test)\n",
        "\n",
        "print ('Training is finished.')"
      ]
    },
    {
      "cell_type": "markdown",
      "metadata": {
        "id": "OY0M7nazZzjc"
      },
      "source": [
        "Before you move on to the next exercise, you can further play with the other parameters (learning rate, epochs, a different optimizer, etc.) to get a feeling what can improve or hamper performance. "
      ]
    },
    {
      "cell_type": "markdown",
      "metadata": {
        "id": "Z9HdWuGDZzjc"
      },
      "source": [
        "## CNN\n",
        "Alright, we matched our prior performance. Let's surpass it! You will soon see the power of CNN by building a small one yourself. The structure should be as follows\n",
        "\n",
        "| CNN Architecture                             \t|\n",
        "|----------------------------------------------\t|\n",
        "| Conv: $C_{in}=1, C_{out}=32, K=3, S=1, P=0$  \t|\n",
        "| ReLU                                         \t|\n",
        "| Conv: $C_{in}=32, C_{out}=64, K=3, S=1, P=0$ \t|\n",
        "| ReLU                                         \t|\n",
        "| MaxPool2d: $K=2, S=2, P=0$                   \t|\n",
        "| Dropout: $p=0.25$                            \t|\n",
        "| Linear: $C_{in}=9216, C_{out}=128$           \t|\n",
        "| ReLU                                         \t|\n",
        "| Dropout: $p=0.5$                             \t|\n",
        "| Linear: $C_{in}=128, C_{out}=10$             \t|\n",
        "\n",
        "The layers you will need are: \n",
        "\n",
        "`nn.Conv2d,  nn.Linear,  nn.Dropout, nn.MaxPool2d, nn.Flatten`\n",
        "\n",
        "For layers without parameters you can alternatively use function in the forward pass:  \n",
        "\n",
        "`F.max_pool2d, torch.flatten`"
      ]
    },
    {
      "cell_type": "code",
      "execution_count": 35,
      "metadata": {
        "id": "sP2aCxUsZzjc"
      },
      "outputs": [],
      "source": [
        "2#########################################################################\n",
        "# TODO: Implement the __init__ and forward method of the CNN class. \n",
        "# Hint: do not forget to flatten the appropriate dimension after the convolutional blocks. \n",
        "# A linear layers expect input of the size (B, H) with batch size B and feature size H\n",
        "#########################################################################\n",
        "\n",
        "class CNN(nn.Module):\n",
        "    def __init__(self):\n",
        "        super(CNN, self).__init__()\n",
        "        self.Conv1st = nn.Conv2d(1,32,3,1,0)\n",
        "        self.Conv2nd = nn.Conv2d(32,64,3,1,0)\n",
        "        self.Lin1st = nn.Linear(9216,128)\n",
        "        self.Lin2nd = nn.Linear(128,10)\n",
        "        self.dropout = nn.Dropout(0.25)\n",
        "\n",
        "    def forward(self, x):\n",
        "        x = self.Conv1st(x) \n",
        "        x = F.relu(x) \n",
        "        x = self.Conv2nd(x)\n",
        "        x = F.relu(x)\n",
        "        x = F.max_pool2d(x,2,2)\n",
        "        x = self.dropout(x)\n",
        "        x = torch.flatten(x,1)\n",
        "        x = self.Lin1st(x)\n",
        "        x = F.relu(x)\n",
        "        x = self.Lin2nd(x)\n",
        "        return x\n"
      ]
    },
    {
      "cell_type": "code",
      "execution_count": 36,
      "metadata": {
        "id": "reS43x2MZzjc",
        "colab": {
          "base_uri": "https://localhost:8080/"
        },
        "outputId": "2787eb09-4895-4bc3-ddfd-dc394d472a77"
      },
      "outputs": [
        {
          "output_type": "execute_result",
          "data": {
            "text/plain": [
              "torch.Size([1, 10])"
            ]
          },
          "metadata": {},
          "execution_count": 36
        }
      ],
      "source": [
        "# Let's test if the forward pass works\n",
        "# this should print torch.Size([1, 10])\n",
        "t = torch.randn(1,1,28,28)\n",
        "cnn = CNN()\n",
        "cnn(t).shape"
      ]
    },
    {
      "cell_type": "markdown",
      "metadata": {
        "id": "Zh6zp__KZzjc"
      },
      "source": [
        "Alright, let's train!"
      ]
    },
    {
      "cell_type": "code",
      "execution_count": 37,
      "metadata": {
        "id": "ot8Xl6SuZzjc"
      },
      "outputs": [],
      "source": [
        "optimizer = optim.Adam(cnn.parameters())"
      ]
    },
    {
      "cell_type": "code",
      "execution_count": 38,
      "metadata": {
        "scrolled": true,
        "id": "Bk3YDe8zZzjc",
        "colab": {
          "base_uri": "https://localhost:8080/"
        },
        "outputId": "53862af4-fb77-4279-c730-510007ff8ec8"
      },
      "outputs": [
        {
          "output_type": "stream",
          "name": "stdout",
          "text": [
            "Train Epoch: 1 [0/60000 (0%)]\tLoss: 148.018112\n",
            "Train Epoch: 1 [6400/60000 (11%)]\tLoss: 12.718541\n",
            "Train Epoch: 1 [12800/60000 (21%)]\tLoss: 11.152355\n",
            "Train Epoch: 1 [19200/60000 (32%)]\tLoss: 2.216053\n",
            "Train Epoch: 1 [25600/60000 (43%)]\tLoss: 2.039225\n",
            "Train Epoch: 1 [32000/60000 (53%)]\tLoss: 5.965817\n",
            "Train Epoch: 1 [38400/60000 (64%)]\tLoss: 5.720987\n",
            "Train Epoch: 1 [44800/60000 (75%)]\tLoss: 3.137942\n",
            "Train Epoch: 1 [51200/60000 (85%)]\tLoss: 0.770435\n",
            "Train Epoch: 1 [57600/60000 (96%)]\tLoss: 0.399875\n",
            "\n",
            "Train set: Average loss: 0.2802, Accuracy: 57793/60000 (96.3%)\n",
            "\n",
            "\n",
            "Test set: Average loss: 0.0405, Accuracy: 9856/10000 (98.560%)\n",
            "\n",
            "Train Epoch: 2 [0/60000 (0%)]\tLoss: 2.176540\n",
            "Train Epoch: 2 [6400/60000 (11%)]\tLoss: 1.135903\n",
            "Train Epoch: 2 [12800/60000 (21%)]\tLoss: 1.028378\n",
            "Train Epoch: 2 [19200/60000 (32%)]\tLoss: 0.292804\n",
            "Train Epoch: 2 [25600/60000 (43%)]\tLoss: 0.637788\n",
            "Train Epoch: 2 [32000/60000 (53%)]\tLoss: 5.162002\n",
            "Train Epoch: 2 [38400/60000 (64%)]\tLoss: 6.807898\n",
            "Train Epoch: 2 [44800/60000 (75%)]\tLoss: 2.317574\n",
            "Train Epoch: 2 [51200/60000 (85%)]\tLoss: 1.060632\n",
            "Train Epoch: 2 [57600/60000 (96%)]\tLoss: 2.133584\n",
            "\n",
            "Train set: Average loss: 0.3744, Accuracy: 59272/60000 (98.8%)\n",
            "\n",
            "\n",
            "Test set: Average loss: 0.0354, Accuracy: 9886/10000 (98.860%)\n",
            "\n",
            "Train Epoch: 3 [0/60000 (0%)]\tLoss: 1.648396\n",
            "Train Epoch: 3 [6400/60000 (11%)]\tLoss: 4.728530\n",
            "Train Epoch: 3 [12800/60000 (21%)]\tLoss: 0.600338\n",
            "Train Epoch: 3 [19200/60000 (32%)]\tLoss: 2.132339\n",
            "Train Epoch: 3 [25600/60000 (43%)]\tLoss: 0.016046\n",
            "Train Epoch: 3 [32000/60000 (53%)]\tLoss: 3.451678\n",
            "Train Epoch: 3 [38400/60000 (64%)]\tLoss: 0.202807\n",
            "Train Epoch: 3 [44800/60000 (75%)]\tLoss: 0.271134\n",
            "Train Epoch: 3 [51200/60000 (85%)]\tLoss: 2.777934\n",
            "Train Epoch: 3 [57600/60000 (96%)]\tLoss: 0.613832\n",
            "\n",
            "Train set: Average loss: 5.8978, Accuracy: 59494/60000 (99.2%)\n",
            "\n",
            "\n",
            "Test set: Average loss: 0.0344, Accuracy: 9882/10000 (98.820%)\n",
            "\n",
            "Train Epoch: 4 [0/60000 (0%)]\tLoss: 0.713809\n",
            "Train Epoch: 4 [6400/60000 (11%)]\tLoss: 0.103669\n",
            "Train Epoch: 4 [12800/60000 (21%)]\tLoss: 0.165788\n",
            "Train Epoch: 4 [19200/60000 (32%)]\tLoss: 0.031273\n",
            "Train Epoch: 4 [25600/60000 (43%)]\tLoss: 1.744513\n",
            "Train Epoch: 4 [32000/60000 (53%)]\tLoss: 9.908185\n",
            "Train Epoch: 4 [38400/60000 (64%)]\tLoss: 2.159470\n",
            "Train Epoch: 4 [44800/60000 (75%)]\tLoss: 0.147220\n",
            "Train Epoch: 4 [51200/60000 (85%)]\tLoss: 0.115662\n",
            "Train Epoch: 4 [57600/60000 (96%)]\tLoss: 6.312154\n",
            "\n",
            "Train set: Average loss: 0.0449, Accuracy: 59647/60000 (99.4%)\n",
            "\n",
            "\n",
            "Test set: Average loss: 0.0314, Accuracy: 9904/10000 (99.040%)\n",
            "\n",
            "Train Epoch: 5 [0/60000 (0%)]\tLoss: 0.223715\n",
            "Train Epoch: 5 [6400/60000 (11%)]\tLoss: 0.141161\n",
            "Train Epoch: 5 [12800/60000 (21%)]\tLoss: 0.204403\n",
            "Train Epoch: 5 [19200/60000 (32%)]\tLoss: 0.146115\n",
            "Train Epoch: 5 [25600/60000 (43%)]\tLoss: 0.073823\n",
            "Train Epoch: 5 [32000/60000 (53%)]\tLoss: 1.967671\n",
            "Train Epoch: 5 [38400/60000 (64%)]\tLoss: 0.457810\n",
            "Train Epoch: 5 [44800/60000 (75%)]\tLoss: 0.088156\n",
            "Train Epoch: 5 [51200/60000 (85%)]\tLoss: 0.362224\n",
            "Train Epoch: 5 [57600/60000 (96%)]\tLoss: 1.854671\n",
            "\n",
            "Train set: Average loss: 0.0749, Accuracy: 59699/60000 (99.5%)\n",
            "\n",
            "\n",
            "Test set: Average loss: 0.0423, Accuracy: 9884/10000 (98.840%)\n",
            "\n"
          ]
        }
      ],
      "source": [
        "epochs = 5\n",
        "for epoch in range(1, epochs + 1):\n",
        "    train(cnn, dl_train, optimizer, epoch, log_interval=100)\n",
        "    test(cnn, dl_test)"
      ]
    },
    {
      "cell_type": "markdown",
      "metadata": {
        "id": "zQpBqytoZzjc"
      },
      "source": [
        "This will probably take a bit longer to train, as a convolutional network is not very efficient on a CPU. The current settings should get you around **99%** accuracy. Nice! \n",
        "Again, you should try different hyperparameters and see how far you can push the performance."
      ]
    },
    {
      "cell_type": "markdown",
      "metadata": {
        "id": "pTnNxCHkZzjc"
      },
      "source": [
        "### Inline Question\n",
        "\n",
        "If your model weight is randomly initalized, and no training is done as above. What accuracy do you think the model will get for a 10-class classification task in theory?\n",
        "\n",
        "**Your answer**: If our model weight is randomly initialized and untrained to data is going to give an accuracy of 90% as is ir really trivial for MNIST dataset.\n"
      ]
    },
    {
      "cell_type": "markdown",
      "metadata": {
        "id": "4EVtqu1BZzjd"
      },
      "source": [
        "## Training on CIFAR10\n",
        "\n",
        "Now we are going to move to something more challenging - CIFAR10. We can reuse most of the code above. Thankfully, CIFAR is also a popular dataset, so we can again make use of a PyTorch convience function."
      ]
    },
    {
      "cell_type": "code",
      "execution_count": 39,
      "metadata": {
        "id": "MUPSdI_IZzjd",
        "colab": {
          "base_uri": "https://localhost:8080/"
        },
        "outputId": "9f486f30-1815-4661-ec90-18d655597fe5"
      },
      "outputs": [
        {
          "output_type": "stream",
          "name": "stdout",
          "text": [
            "Files already downloaded and verified\n"
          ]
        }
      ],
      "source": [
        "ds_train = datasets.CIFAR10(root='./data', train=True, download=True)"
      ]
    },
    {
      "cell_type": "markdown",
      "metadata": {
        "id": "a3QvmBxxZzjd"
      },
      "source": [
        "This dataset is not normalized yet, so we need to calculate the normalization constants."
      ]
    },
    {
      "cell_type": "code",
      "execution_count": 40,
      "metadata": {
        "id": "KIw7SmqwZzjd"
      },
      "outputs": [],
      "source": [
        "ims_train = torch.tensor(ds_train.data)\n",
        "ims_train = ims_train.float() / 255."
      ]
    },
    {
      "cell_type": "code",
      "execution_count": 41,
      "metadata": {
        "id": "YpRNMkjSZzjd",
        "colab": {
          "base_uri": "https://localhost:8080/"
        },
        "outputId": "4eca55fd-fe25-4e80-fb07-81d41f784a6d"
      },
      "outputs": [
        {
          "output_type": "execute_result",
          "data": {
            "text/plain": [
              "tensor([0.2470, 0.2435, 0.2616])"
            ]
          },
          "metadata": {},
          "execution_count": 41
        }
      ],
      "source": [
        "ims_train.std((0,1,2))"
      ]
    },
    {
      "cell_type": "code",
      "execution_count": 42,
      "metadata": {
        "id": "GgXiUJ9GZzjd"
      },
      "outputs": [],
      "source": [
        "#########################################################################\n",
        "# TODO: calculate the mean and std of CIFAR\n",
        "# hint: We want the mean and std of the channel dimension, these should\n",
        "# be 3 dimensional\n",
        "#########################################################################\n",
        "mu = 0.0\n",
        "std = 1.0\n",
        "\n",
        "mu = ims_train.mean()\n",
        "std = ims_train.std()"
      ]
    },
    {
      "cell_type": "code",
      "execution_count": 43,
      "metadata": {
        "id": "N-qc4nYnZzjd",
        "colab": {
          "base_uri": "https://localhost:8080/"
        },
        "outputId": "318e08c9-5117-44bd-f443-d745d2279ecf"
      },
      "outputs": [
        {
          "output_type": "execute_result",
          "data": {
            "text/plain": [
              "tensor([0.4914, 0.4822, 0.4465])"
            ]
          },
          "metadata": {},
          "execution_count": 43
        }
      ],
      "source": [
        "torch.mean(ims_train, dim=(0,1,2))"
      ]
    },
    {
      "cell_type": "markdown",
      "metadata": {
        "id": "duK4GUzQZzje"
      },
      "source": [
        "For CIFAR we want to make use of data augmentation to improve generalization. You will find all data augmentations data are included in torchvision here:\n",
        "\n",
        "https://pytorch.org/docs/stable/torchvision/transforms.html"
      ]
    },
    {
      "cell_type": "code",
      "execution_count": 44,
      "metadata": {
        "id": "hz6UJuGjZzje",
        "colab": {
          "base_uri": "https://localhost:8080/"
        },
        "outputId": "c39698ef-03ec-4e24-8149-d9407e222dbf"
      },
      "outputs": [
        {
          "output_type": "stream",
          "name": "stdout",
          "text": [
            "Files already downloaded and verified\n",
            "Files already downloaded and verified\n"
          ]
        }
      ],
      "source": [
        "BATCH_SIZE = 128\n",
        "NUM_WORKERS = 4 # if you encounter some unexpected errors in data loading, try setting `NUM_WORKERS = 0`\n",
        "#########################################################################\n",
        "# TODO: Implement the proper transforms for the training and test dataloaders. \n",
        "# Then build train and test dataloaders with batch size 128 and 4 workers\n",
        "#\n",
        "# Train: \n",
        "# - Apply a random crop with size 32 on a padded version of the image with P=4\n",
        "# - Flip the image horizontally with a probability of 40 %\n",
        "# - Transform to a Tensor\n",
        "# - Normalize with the constants calculated above\n",
        "# Test: \n",
        "# - Transform to a Tensor\n",
        "# - Normalize with the constants calculated above\n",
        "#########################################################################\n",
        "transform_train = transforms.Compose([transforms.RandomCrop(32,4), transforms.RandomHorizontalFlip(0.4), transforms.ToTensor(), transforms.Normalize(mu, std)])\n",
        "transform_test = transforms.Compose([ transforms.ToTensor(), transforms.Normalize(mu, std)])\n",
        "\n",
        "ds_train = datasets.CIFAR10('./data', train=True, download=True, transform=transform_train)\n",
        "ds_test  = datasets.CIFAR10('./data', train=False, download=True, transform=transform_test)\n",
        "\n",
        "dl_train = DataLoader(ds_train, batch_size=BATCH_SIZE, num_workers=NUM_WORKERS, shuffle = True)\n",
        "dl_test = DataLoader (ds_test, batch_size=BATCH_SIZE, num_workers=NUM_WORKERS, shuffle = False)\n",
        "\n"
      ]
    },
    {
      "cell_type": "markdown",
      "metadata": {
        "id": "IBiUJntpZzje"
      },
      "source": [
        "Setting up the  optimizer, this time we use SGD. The scheduler adapts the learning rate during traing (you can ignore it)"
      ]
    },
    {
      "cell_type": "code",
      "execution_count": 45,
      "metadata": {
        "id": "c12RNJWtZzje"
      },
      "outputs": [],
      "source": [
        "cnn = CNN()\n",
        "optimizer = optim.SGD(cnn.parameters(), lr=0.1, momentum=0.9, weight_decay=5e-4)\n",
        "scheduler = torch.optim.lr_scheduler.CosineAnnealingLR(optimizer, T_max=200)"
      ]
    },
    {
      "cell_type": "code",
      "execution_count": 46,
      "metadata": {
        "scrolled": true,
        "id": "CUsAWZNkZzje",
        "colab": {
          "base_uri": "https://localhost:8080/",
          "height": 397
        },
        "outputId": "9a7c084e-1502-498f-b606-47f98ad9f614"
      },
      "outputs": [
        {
          "output_type": "error",
          "ename": "RuntimeError",
          "evalue": "ignored",
          "traceback": [
            "\u001b[0;31m---------------------------------------------------------------------------\u001b[0m",
            "\u001b[0;31mRuntimeError\u001b[0m                              Traceback (most recent call last)",
            "\u001b[0;32m<ipython-input-46-ba9429f4ef5e>\u001b[0m in \u001b[0;36m<module>\u001b[0;34m\u001b[0m\n\u001b[1;32m      1\u001b[0m \u001b[0mepochs\u001b[0m \u001b[0;34m=\u001b[0m \u001b[0;36m5\u001b[0m\u001b[0;34m\u001b[0m\u001b[0;34m\u001b[0m\u001b[0m\n\u001b[1;32m      2\u001b[0m \u001b[0;32mfor\u001b[0m \u001b[0mepoch\u001b[0m \u001b[0;32min\u001b[0m \u001b[0mrange\u001b[0m\u001b[0;34m(\u001b[0m\u001b[0;36m1\u001b[0m\u001b[0;34m,\u001b[0m \u001b[0mepochs\u001b[0m \u001b[0;34m+\u001b[0m \u001b[0;36m1\u001b[0m\u001b[0;34m)\u001b[0m\u001b[0;34m:\u001b[0m\u001b[0;34m\u001b[0m\u001b[0;34m\u001b[0m\u001b[0m\n\u001b[0;32m----> 3\u001b[0;31m     \u001b[0mtrain\u001b[0m\u001b[0;34m(\u001b[0m\u001b[0mcnn\u001b[0m\u001b[0;34m,\u001b[0m \u001b[0mdl_train\u001b[0m\u001b[0;34m,\u001b[0m \u001b[0moptimizer\u001b[0m\u001b[0;34m,\u001b[0m \u001b[0mepoch\u001b[0m\u001b[0;34m,\u001b[0m \u001b[0mlog_interval\u001b[0m\u001b[0;34m=\u001b[0m\u001b[0;36m100\u001b[0m\u001b[0;34m)\u001b[0m\u001b[0;34m\u001b[0m\u001b[0;34m\u001b[0m\u001b[0m\n\u001b[0m\u001b[1;32m      4\u001b[0m     \u001b[0mtest\u001b[0m\u001b[0;34m(\u001b[0m\u001b[0mcnn\u001b[0m\u001b[0;34m,\u001b[0m \u001b[0mdl_test\u001b[0m\u001b[0;34m)\u001b[0m\u001b[0;34m\u001b[0m\u001b[0;34m\u001b[0m\u001b[0m\n\u001b[1;32m      5\u001b[0m     \u001b[0mscheduler\u001b[0m\u001b[0;34m.\u001b[0m\u001b[0mstep\u001b[0m\u001b[0;34m(\u001b[0m\u001b[0;34m)\u001b[0m\u001b[0;34m\u001b[0m\u001b[0;34m\u001b[0m\u001b[0m\n",
            "\u001b[0;32m<ipython-input-32-65f5db9bc1cb>\u001b[0m in \u001b[0;36mtrain\u001b[0;34m(model, dl_train, optimizer, epoch, log_interval, device)\u001b[0m\n\u001b[1;32m     15\u001b[0m \u001b[0;34m\u001b[0m\u001b[0m\n\u001b[1;32m     16\u001b[0m         \u001b[0;31m##### implement this part #####\u001b[0m\u001b[0;34m\u001b[0m\u001b[0;34m\u001b[0m\u001b[0;34m\u001b[0m\u001b[0m\n\u001b[0;32m---> 17\u001b[0;31m         \u001b[0moutput\u001b[0m \u001b[0;34m=\u001b[0m \u001b[0mmodel\u001b[0m\u001b[0;34m(\u001b[0m\u001b[0mdata\u001b[0m\u001b[0;34m)\u001b[0m\u001b[0;34m\u001b[0m\u001b[0;34m\u001b[0m\u001b[0m\n\u001b[0m\u001b[1;32m     18\u001b[0m         \u001b[0mloss\u001b[0m \u001b[0;34m=\u001b[0m \u001b[0mF\u001b[0m\u001b[0;34m.\u001b[0m\u001b[0mcross_entropy\u001b[0m\u001b[0;34m(\u001b[0m\u001b[0moutput\u001b[0m\u001b[0;34m,\u001b[0m \u001b[0mtarget\u001b[0m\u001b[0;34m,\u001b[0m \u001b[0mreduction\u001b[0m\u001b[0;34m=\u001b[0m\u001b[0;34m'sum'\u001b[0m\u001b[0;34m)\u001b[0m\u001b[0;34m\u001b[0m\u001b[0;34m\u001b[0m\u001b[0m\n\u001b[1;32m     19\u001b[0m         \u001b[0mloss\u001b[0m\u001b[0;34m.\u001b[0m\u001b[0mbackward\u001b[0m\u001b[0;34m(\u001b[0m\u001b[0;34m)\u001b[0m\u001b[0;34m\u001b[0m\u001b[0;34m\u001b[0m\u001b[0m\n",
            "\u001b[0;32m/usr/local/lib/python3.7/dist-packages/torch/nn/modules/module.py\u001b[0m in \u001b[0;36m_call_impl\u001b[0;34m(self, *input, **kwargs)\u001b[0m\n\u001b[1;32m   1128\u001b[0m         if not (self._backward_hooks or self._forward_hooks or self._forward_pre_hooks or _global_backward_hooks\n\u001b[1;32m   1129\u001b[0m                 or _global_forward_hooks or _global_forward_pre_hooks):\n\u001b[0;32m-> 1130\u001b[0;31m             \u001b[0;32mreturn\u001b[0m \u001b[0mforward_call\u001b[0m\u001b[0;34m(\u001b[0m\u001b[0;34m*\u001b[0m\u001b[0minput\u001b[0m\u001b[0;34m,\u001b[0m \u001b[0;34m**\u001b[0m\u001b[0mkwargs\u001b[0m\u001b[0;34m)\u001b[0m\u001b[0;34m\u001b[0m\u001b[0;34m\u001b[0m\u001b[0m\n\u001b[0m\u001b[1;32m   1131\u001b[0m         \u001b[0;31m# Do not call functions when jit is used\u001b[0m\u001b[0;34m\u001b[0m\u001b[0;34m\u001b[0m\u001b[0;34m\u001b[0m\u001b[0m\n\u001b[1;32m   1132\u001b[0m         \u001b[0mfull_backward_hooks\u001b[0m\u001b[0;34m,\u001b[0m \u001b[0mnon_full_backward_hooks\u001b[0m \u001b[0;34m=\u001b[0m \u001b[0;34m[\u001b[0m\u001b[0;34m]\u001b[0m\u001b[0;34m,\u001b[0m \u001b[0;34m[\u001b[0m\u001b[0;34m]\u001b[0m\u001b[0;34m\u001b[0m\u001b[0;34m\u001b[0m\u001b[0m\n",
            "\u001b[0;32m<ipython-input-35-c0a6b02d97ce>\u001b[0m in \u001b[0;36mforward\u001b[0;34m(self, x)\u001b[0m\n\u001b[1;32m     15\u001b[0m \u001b[0;34m\u001b[0m\u001b[0m\n\u001b[1;32m     16\u001b[0m     \u001b[0;32mdef\u001b[0m \u001b[0mforward\u001b[0m\u001b[0;34m(\u001b[0m\u001b[0mself\u001b[0m\u001b[0;34m,\u001b[0m \u001b[0mx\u001b[0m\u001b[0;34m)\u001b[0m\u001b[0;34m:\u001b[0m\u001b[0;34m\u001b[0m\u001b[0;34m\u001b[0m\u001b[0m\n\u001b[0;32m---> 17\u001b[0;31m         \u001b[0mx\u001b[0m \u001b[0;34m=\u001b[0m \u001b[0mself\u001b[0m\u001b[0;34m.\u001b[0m\u001b[0mconv1\u001b[0m\u001b[0;34m(\u001b[0m\u001b[0mx\u001b[0m\u001b[0;34m)\u001b[0m \u001b[0;31m# 32 * 26 * 26  W/H = (n-f+2p)/s+1\u001b[0m\u001b[0;34m\u001b[0m\u001b[0;34m\u001b[0m\u001b[0m\n\u001b[0m\u001b[1;32m     18\u001b[0m         \u001b[0mx\u001b[0m \u001b[0;34m=\u001b[0m \u001b[0mF\u001b[0m\u001b[0;34m.\u001b[0m\u001b[0mrelu\u001b[0m\u001b[0;34m(\u001b[0m\u001b[0mx\u001b[0m\u001b[0;34m)\u001b[0m\u001b[0;34m\u001b[0m\u001b[0;34m\u001b[0m\u001b[0m\n\u001b[1;32m     19\u001b[0m         \u001b[0mx\u001b[0m \u001b[0;34m=\u001b[0m \u001b[0mself\u001b[0m\u001b[0;34m.\u001b[0m\u001b[0mconv2\u001b[0m\u001b[0;34m(\u001b[0m\u001b[0mx\u001b[0m\u001b[0;34m)\u001b[0m \u001b[0;31m# 64 * 24 * 24\u001b[0m\u001b[0;34m\u001b[0m\u001b[0;34m\u001b[0m\u001b[0m\n",
            "\u001b[0;32m/usr/local/lib/python3.7/dist-packages/torch/nn/modules/module.py\u001b[0m in \u001b[0;36m_call_impl\u001b[0;34m(self, *input, **kwargs)\u001b[0m\n\u001b[1;32m   1128\u001b[0m         if not (self._backward_hooks or self._forward_hooks or self._forward_pre_hooks or _global_backward_hooks\n\u001b[1;32m   1129\u001b[0m                 or _global_forward_hooks or _global_forward_pre_hooks):\n\u001b[0;32m-> 1130\u001b[0;31m             \u001b[0;32mreturn\u001b[0m \u001b[0mforward_call\u001b[0m\u001b[0;34m(\u001b[0m\u001b[0;34m*\u001b[0m\u001b[0minput\u001b[0m\u001b[0;34m,\u001b[0m \u001b[0;34m**\u001b[0m\u001b[0mkwargs\u001b[0m\u001b[0;34m)\u001b[0m\u001b[0;34m\u001b[0m\u001b[0;34m\u001b[0m\u001b[0m\n\u001b[0m\u001b[1;32m   1131\u001b[0m         \u001b[0;31m# Do not call functions when jit is used\u001b[0m\u001b[0;34m\u001b[0m\u001b[0;34m\u001b[0m\u001b[0;34m\u001b[0m\u001b[0m\n\u001b[1;32m   1132\u001b[0m         \u001b[0mfull_backward_hooks\u001b[0m\u001b[0;34m,\u001b[0m \u001b[0mnon_full_backward_hooks\u001b[0m \u001b[0;34m=\u001b[0m \u001b[0;34m[\u001b[0m\u001b[0;34m]\u001b[0m\u001b[0;34m,\u001b[0m \u001b[0;34m[\u001b[0m\u001b[0;34m]\u001b[0m\u001b[0;34m\u001b[0m\u001b[0;34m\u001b[0m\u001b[0m\n",
            "\u001b[0;32m/usr/local/lib/python3.7/dist-packages/torch/nn/modules/conv.py\u001b[0m in \u001b[0;36mforward\u001b[0;34m(self, input)\u001b[0m\n\u001b[1;32m    455\u001b[0m \u001b[0;34m\u001b[0m\u001b[0m\n\u001b[1;32m    456\u001b[0m     \u001b[0;32mdef\u001b[0m \u001b[0mforward\u001b[0m\u001b[0;34m(\u001b[0m\u001b[0mself\u001b[0m\u001b[0;34m,\u001b[0m \u001b[0minput\u001b[0m\u001b[0;34m:\u001b[0m \u001b[0mTensor\u001b[0m\u001b[0;34m)\u001b[0m \u001b[0;34m->\u001b[0m \u001b[0mTensor\u001b[0m\u001b[0;34m:\u001b[0m\u001b[0;34m\u001b[0m\u001b[0;34m\u001b[0m\u001b[0m\n\u001b[0;32m--> 457\u001b[0;31m         \u001b[0;32mreturn\u001b[0m \u001b[0mself\u001b[0m\u001b[0;34m.\u001b[0m\u001b[0m_conv_forward\u001b[0m\u001b[0;34m(\u001b[0m\u001b[0minput\u001b[0m\u001b[0;34m,\u001b[0m \u001b[0mself\u001b[0m\u001b[0;34m.\u001b[0m\u001b[0mweight\u001b[0m\u001b[0;34m,\u001b[0m \u001b[0mself\u001b[0m\u001b[0;34m.\u001b[0m\u001b[0mbias\u001b[0m\u001b[0;34m)\u001b[0m\u001b[0;34m\u001b[0m\u001b[0;34m\u001b[0m\u001b[0m\n\u001b[0m\u001b[1;32m    458\u001b[0m \u001b[0;34m\u001b[0m\u001b[0m\n\u001b[1;32m    459\u001b[0m \u001b[0;32mclass\u001b[0m \u001b[0mConv3d\u001b[0m\u001b[0;34m(\u001b[0m\u001b[0m_ConvNd\u001b[0m\u001b[0;34m)\u001b[0m\u001b[0;34m:\u001b[0m\u001b[0;34m\u001b[0m\u001b[0;34m\u001b[0m\u001b[0m\n",
            "\u001b[0;32m/usr/local/lib/python3.7/dist-packages/torch/nn/modules/conv.py\u001b[0m in \u001b[0;36m_conv_forward\u001b[0;34m(self, input, weight, bias)\u001b[0m\n\u001b[1;32m    452\u001b[0m                             _pair(0), self.dilation, self.groups)\n\u001b[1;32m    453\u001b[0m         return F.conv2d(input, weight, bias, self.stride,\n\u001b[0;32m--> 454\u001b[0;31m                         self.padding, self.dilation, self.groups)\n\u001b[0m\u001b[1;32m    455\u001b[0m \u001b[0;34m\u001b[0m\u001b[0m\n\u001b[1;32m    456\u001b[0m     \u001b[0;32mdef\u001b[0m \u001b[0mforward\u001b[0m\u001b[0;34m(\u001b[0m\u001b[0mself\u001b[0m\u001b[0;34m,\u001b[0m \u001b[0minput\u001b[0m\u001b[0;34m:\u001b[0m \u001b[0mTensor\u001b[0m\u001b[0;34m)\u001b[0m \u001b[0;34m->\u001b[0m \u001b[0mTensor\u001b[0m\u001b[0;34m:\u001b[0m\u001b[0;34m\u001b[0m\u001b[0;34m\u001b[0m\u001b[0m\n",
            "\u001b[0;31mRuntimeError\u001b[0m: Given groups=1, weight of size [32, 1, 3, 3], expected input[128, 3, 32, 32] to have 1 channels, but got 3 channels instead"
          ]
        }
      ],
      "source": [
        "epochs = 5\n",
        "for epoch in range(1, epochs + 1):\n",
        "    train(cnn, dl_train, optimizer, epoch, log_interval=100)\n",
        "    test(cnn, dl_test)    \n",
        "    scheduler.step()"
      ]
    },
    {
      "cell_type": "markdown",
      "metadata": {
        "id": "MUIFAyt8Zzje"
      },
      "source": [
        "This will not work. You should see the following error message\n",
        "\n",
        "```\n",
        "Given groups=1, weight of size [32, 1, 3, 3], expected input[128, 3, 32, 32] to have 1 channels, but got 3 channels instead\n",
        "```\n",
        "\n",
        "This error is telling us that something is not right in the definition of our model. Copy the CNN class from above and make changes, so the training works."
      ]
    },
    {
      "cell_type": "code",
      "execution_count": 47,
      "metadata": {
        "id": "uUbzffkrZzje"
      },
      "outputs": [],
      "source": [
        "#########################################################################\n",
        "# TODO: Adapt the definition from the CNN class above to work on CIFAR.\n",
        "# You can copy and run the following prompt for evaluation:\n",
        "# CNN()(torch.randn(1,3,32,32)).shape\n",
        "# It should print 'torch.Size([1, 10])'\n",
        "# Hint: You need to change 2 things. \n",
        "#########################################################################\n",
        "\n",
        "class CNN(nn.Module):\n",
        "    def __init__(self):\n",
        "        super(CNN, self).__init__()\n",
        "\n",
        "        self.Conv1st = nn.Conv2d(3,32,3,1,0)\n",
        "        self.Conv2nd = nn.Conv2d(32,64,3,1,0)\n",
        "        self.Lin1st = nn.Linear(12544,128)\n",
        "        self.Lin2nd = nn.Linear(128,10)\n",
        "        self.dropout = nn.Dropout(0.25)\n",
        "\n",
        "    def forward(self, x):\n",
        "        x = self.Conv1st(x) \n",
        "        x = F.relu(x) \n",
        "        x = self.Conv2nd(x)\n",
        "        x = F.relu(x)\n",
        "        x = F.max_pool2d(x,2,2)\n",
        "        x = self.dropout(x)\n",
        "        x = torch.flatten(x,1)\n",
        "        x = self.Lin1st(x)\n",
        "        x = F.relu(x)\n",
        "        x = self.Lin2nd(x)\n",
        "        return x"
      ]
    },
    {
      "cell_type": "markdown",
      "metadata": {
        "id": "TmSlUEyzZzje"
      },
      "source": [
        "Let's try again"
      ]
    },
    {
      "cell_type": "code",
      "execution_count": 51,
      "metadata": {
        "scrolled": true,
        "id": "YG3_LmIpZzjf",
        "colab": {
          "base_uri": "https://localhost:8080/"
        },
        "outputId": "bf5fee3c-8258-4371-c471-5f74c6b6e497"
      },
      "outputs": [
        {
          "output_type": "stream",
          "name": "stderr",
          "text": [
            "/usr/local/lib/python3.7/dist-packages/torch/utils/data/dataloader.py:566: UserWarning: This DataLoader will create 4 worker processes in total. Our suggested max number of worker in current system is 2, which is smaller than what this DataLoader is going to create. Please be aware that excessive worker creation might get DataLoader running slow or even freeze, lower the worker number to avoid potential slowness/freeze if necessary.\n",
            "  cpuset_checked))\n"
          ]
        },
        {
          "output_type": "stream",
          "name": "stdout",
          "text": [
            "Train Epoch: 1 [0/50000 (0%)]\tLoss: 295.808563\n",
            "Train Epoch: 1 [12800/50000 (26%)]\tLoss: 200.203140\n",
            "Train Epoch: 1 [25600/50000 (51%)]\tLoss: 166.014282\n",
            "Train Epoch: 1 [38400/50000 (77%)]\tLoss: 169.175446\n",
            "\n",
            "Train set: Average loss: 108.5668, Accuracy: 23553/50000 (47.1%)\n",
            "\n",
            "\n",
            "Test set: Average loss: 1.1160, Accuracy: 6074/10000 (60.740%)\n",
            "\n",
            "Train Epoch: 2 [0/50000 (0%)]\tLoss: 167.640244\n",
            "Train Epoch: 2 [12800/50000 (26%)]\tLoss: 149.425903\n",
            "Train Epoch: 2 [25600/50000 (51%)]\tLoss: 133.930130\n",
            "Train Epoch: 2 [38400/50000 (77%)]\tLoss: 139.247284\n",
            "\n",
            "Train set: Average loss: 80.8683, Accuracy: 29392/50000 (58.8%)\n",
            "\n",
            "\n",
            "Test set: Average loss: 1.0220, Accuracy: 6418/10000 (64.180%)\n",
            "\n",
            "Train Epoch: 3 [0/50000 (0%)]\tLoss: 129.863953\n",
            "Train Epoch: 3 [12800/50000 (26%)]\tLoss: 132.676285\n",
            "Train Epoch: 3 [25600/50000 (51%)]\tLoss: 152.246674\n",
            "Train Epoch: 3 [38400/50000 (77%)]\tLoss: 118.675545\n",
            "\n",
            "Train set: Average loss: 83.8245, Accuracy: 31263/50000 (62.5%)\n",
            "\n",
            "\n",
            "Test set: Average loss: 0.8858, Accuracy: 6851/10000 (68.510%)\n",
            "\n",
            "Train Epoch: 4 [0/50000 (0%)]\tLoss: 135.673050\n",
            "Train Epoch: 4 [12800/50000 (26%)]\tLoss: 118.975975\n",
            "Train Epoch: 4 [25600/50000 (51%)]\tLoss: 133.901917\n",
            "Train Epoch: 4 [38400/50000 (77%)]\tLoss: 107.241074\n",
            "\n",
            "Train set: Average loss: 69.6874, Accuracy: 32403/50000 (64.8%)\n",
            "\n",
            "\n",
            "Test set: Average loss: 0.8793, Accuracy: 6888/10000 (68.880%)\n",
            "\n",
            "Train Epoch: 5 [0/50000 (0%)]\tLoss: 124.998688\n",
            "Train Epoch: 5 [12800/50000 (26%)]\tLoss: 143.693024\n",
            "Train Epoch: 5 [25600/50000 (51%)]\tLoss: 95.408699\n",
            "Train Epoch: 5 [38400/50000 (77%)]\tLoss: 115.039619\n",
            "\n",
            "Train set: Average loss: 67.9061, Accuracy: 33454/50000 (66.9%)\n",
            "\n",
            "\n",
            "Test set: Average loss: 0.8138, Accuracy: 7197/10000 (71.970%)\n",
            "\n"
          ]
        }
      ],
      "source": [
        "cnn = CNN()\n",
        "optimizer = optim.Adam(cnn.parameters())\n",
        "#optimizer = optim.SGD(cnn.parameters(), lr=0.1, momentum=0.9, weight_decay=5e-4)\n",
        "#scheduler = torch.optim.lr_scheduler.CosineAnnealingLR(optimizer, T_max=200)\n",
        "\n",
        "epochs = 5\n",
        "#epocks =10\n",
        "for epoch in range(1, epochs + 1):\n",
        "    train(cnn, dl_train, optimizer, epoch, log_interval=100)\n",
        "    test(cnn, dl_test)    \n",
        "    #scheduler.step()\n",
        "\n",
        "\n",
        "# fyi different optimizers and the initial epoch were tested but due to lack of computational power and for \n",
        "# ensuring a better performance (even though is upper 50%) i used also adam\n"
      ]
    },
    {
      "cell_type": "markdown",
      "metadata": {
        "id": "QQLOJqI1Zzjf"
      },
      "source": [
        "This should give 40 - 50 % - and if you are not already on Colab it will give you a stressed out laptop. The performance is a lot better than random, but we can definitely do better."
      ]
    },
    {
      "cell_type": "markdown",
      "metadata": {
        "id": "1bDWZrC2Zzjf"
      },
      "source": [
        "### Have fun with GPUs\n",
        "You can already call it a day until this point because we won't grade the rest of the excecise. You can have more fun with the rest :)\n"
      ]
    },
    {
      "cell_type": "markdown",
      "metadata": {
        "id": "VnWYKQ2eZzjf"
      },
      "source": [
        "\n",
        "If you didn't already, move to colab. To use a GPU, follow on the collaboratory menu tabs, \"Runtime\" => \"Change runtime type\" and set it to GPU. Then run the same training loop but now on GPU. \n",
        "\n",
        "It as easy as:"
      ]
    },
    {
      "cell_type": "code",
      "execution_count": null,
      "metadata": {
        "id": "J6tttzAYZzjf"
      },
      "outputs": [],
      "source": [
        "device = 'cuda'\n",
        "if device == 'cuda': torch.backends.cudnn.benchmark = True # additional speed up\n",
        "\n",
        "cnn = CNN()\n",
        "optimizer = optim.SGD(cnn.parameters(), lr=0.1, momentum=0.9, weight_decay=5e-4)\n",
        "scheduler = torch.optim.lr_scheduler.CosineAnnealingLR(optimizer, T_max=200)\n",
        "cnn = cnn.to(device)\n",
        "\n",
        "epochs = 10\n",
        "for epoch in range(1, epochs + 1):\n",
        "    train(cnn, dl_train, optimizer, epoch, log_interval=100, device=device)\n",
        "    test(cnn, dl_test, device=device)    \n",
        "    scheduler.step()"
      ]
    },
    {
      "cell_type": "markdown",
      "metadata": {
        "id": "vgmU2aMiZzjf"
      },
      "source": [
        "This should be way faster now. But the true advantage of the GPU is that we can use much bigger models now and still train them in a reasonable amount of time. PyTorch is again very handy. The torchvision library comes with varies state-of-the-art model architectures, some of which you have seen in the lecture."
      ]
    },
    {
      "cell_type": "code",
      "execution_count": null,
      "metadata": {
        "id": "FSvxAOwXZzjf"
      },
      "outputs": [],
      "source": [
        "from torchvision.models import resnet18"
      ]
    },
    {
      "cell_type": "code",
      "execution_count": null,
      "metadata": {
        "scrolled": true,
        "id": "AqSzULsvZzjf"
      },
      "outputs": [],
      "source": [
        "cnn = resnet18()\n",
        "print(cnn)"
      ]
    },
    {
      "cell_type": "markdown",
      "metadata": {
        "id": "hYCcefWRZzjf"
      },
      "source": [
        "Looks scary! But the only thing you need to change to make it work on CIFAR is the last layer.\n",
        "Currently the last layer is:\n",
        "```\n",
        "  (fc): Linear(in_features=512, out_features=1000, bias=True)\n",
        "```\n",
        "out_features is the number of classes. This models are developed for Imagenet, a dataset with 1000 classes. So this part of the model you need to adapt. Additionally, you need to add a log-softmax layer again, as we us negative log-likelihood as the training criterion. "
      ]
    },
    {
      "cell_type": "code",
      "execution_count": null,
      "metadata": {
        "id": "tg5kOfYTZzjg"
      },
      "outputs": [],
      "source": [
        "#########################################################################\n",
        "# TODO: Adapt the Resnet to work on CIFAR\n",
        "#########################################################################\n"
      ]
    },
    {
      "cell_type": "code",
      "execution_count": null,
      "metadata": {
        "id": "Tzc8r3OWZzjg"
      },
      "outputs": [],
      "source": [
        "# This should print 'torch.Size([16, 10])'\n",
        "cnn(torch.randn(16,3,32,32)).shape"
      ]
    },
    {
      "cell_type": "code",
      "execution_count": null,
      "metadata": {
        "id": "9oTl58F3Zzjg"
      },
      "outputs": [],
      "source": [
        "device = 'cuda'\n",
        "if device == 'cuda': torch.backends.cudnn.benchmark = True # this gives us additional speed up\n",
        "\n",
        "optimizer = optim.SGD(cnn.parameters(), lr=0.1, momentum=0.9, weight_decay=5e-4)\n",
        "scheduler = torch.optim.lr_scheduler.CosineAnnealingLR(optimizer, T_max=200)\n",
        "cnn = cnn.to(device)\n",
        "\n",
        "epochs = 50\n",
        "for epoch in range(1, epochs + 1):\n",
        "    train(cnn, dl_train, optimizer, epoch, log_interval=100, device=device)\n",
        "    test(cnn, dl_test, device=device)    \n",
        "    scheduler.step()"
      ]
    },
    {
      "cell_type": "markdown",
      "metadata": {
        "id": "rNlANOQfZzjg"
      },
      "source": [
        "This should get us well above 75%, the best we got was ~ 80%.\n",
        "\n",
        "Now, use different torchvision architectures, different optimizers (Adam is always a good choice), data augmentation techniques, and hyperparameter search to achieve a test accuracy of >90 %"
      ]
    },
    {
      "cell_type": "code",
      "execution_count": null,
      "metadata": {
        "id": "aCHWE-sqZzjg"
      },
      "outputs": [],
      "source": []
    }
  ],
  "metadata": {
    "kernelspec": {
      "display_name": "Python 3.9.12 ('base')",
      "language": "python",
      "name": "python3"
    },
    "language_info": {
      "codemirror_mode": {
        "name": "ipython",
        "version": 3
      },
      "file_extension": ".py",
      "mimetype": "text/x-python",
      "name": "python",
      "nbconvert_exporter": "python",
      "pygments_lexer": "ipython3",
      "version": "3.9.12"
    },
    "vscode": {
      "interpreter": {
        "hash": "d268b61a0efacafa8645774cb6d0204c9f01d7563ef03f7672146d044e8f345c"
      }
    },
    "colab": {
      "provenance": []
    },
    "gpuClass": "standard",
    "accelerator": "GPU",
    "widgets": {
      "application/vnd.jupyter.widget-state+json": {
        "c0b997acdf0d4091a15c4709800eacad": {
          "model_module": "@jupyter-widgets/controls",
          "model_name": "HBoxModel",
          "model_module_version": "1.5.0",
          "state": {
            "_dom_classes": [],
            "_model_module": "@jupyter-widgets/controls",
            "_model_module_version": "1.5.0",
            "_model_name": "HBoxModel",
            "_view_count": null,
            "_view_module": "@jupyter-widgets/controls",
            "_view_module_version": "1.5.0",
            "_view_name": "HBoxView",
            "box_style": "",
            "children": [
              "IPY_MODEL_3cfcbb931ba04d98b76f2a3309e72248",
              "IPY_MODEL_fe9867dbf15547499996c3eac13a4c9c",
              "IPY_MODEL_8f39b67e05084b34b69a0d59bb331e9d"
            ],
            "layout": "IPY_MODEL_479092e355fe4073a0b27ee7f55af754"
          }
        },
        "3cfcbb931ba04d98b76f2a3309e72248": {
          "model_module": "@jupyter-widgets/controls",
          "model_name": "HTMLModel",
          "model_module_version": "1.5.0",
          "state": {
            "_dom_classes": [],
            "_model_module": "@jupyter-widgets/controls",
            "_model_module_version": "1.5.0",
            "_model_name": "HTMLModel",
            "_view_count": null,
            "_view_module": "@jupyter-widgets/controls",
            "_view_module_version": "1.5.0",
            "_view_name": "HTMLView",
            "description": "",
            "description_tooltip": null,
            "layout": "IPY_MODEL_4a49935898704d2dac762ff583459cba",
            "placeholder": "​",
            "style": "IPY_MODEL_d342ad3934874775bca0259cc4b9cb0c",
            "value": "100%"
          }
        },
        "fe9867dbf15547499996c3eac13a4c9c": {
          "model_module": "@jupyter-widgets/controls",
          "model_name": "FloatProgressModel",
          "model_module_version": "1.5.0",
          "state": {
            "_dom_classes": [],
            "_model_module": "@jupyter-widgets/controls",
            "_model_module_version": "1.5.0",
            "_model_name": "FloatProgressModel",
            "_view_count": null,
            "_view_module": "@jupyter-widgets/controls",
            "_view_module_version": "1.5.0",
            "_view_name": "ProgressView",
            "bar_style": "success",
            "description": "",
            "description_tooltip": null,
            "layout": "IPY_MODEL_c6aed0c9bc8e461693a85e1a3327c6aa",
            "max": 9912422,
            "min": 0,
            "orientation": "horizontal",
            "style": "IPY_MODEL_7accc11a058843fbb8fb81b3cc9f310b",
            "value": 9912422
          }
        },
        "8f39b67e05084b34b69a0d59bb331e9d": {
          "model_module": "@jupyter-widgets/controls",
          "model_name": "HTMLModel",
          "model_module_version": "1.5.0",
          "state": {
            "_dom_classes": [],
            "_model_module": "@jupyter-widgets/controls",
            "_model_module_version": "1.5.0",
            "_model_name": "HTMLModel",
            "_view_count": null,
            "_view_module": "@jupyter-widgets/controls",
            "_view_module_version": "1.5.0",
            "_view_name": "HTMLView",
            "description": "",
            "description_tooltip": null,
            "layout": "IPY_MODEL_44d4f284fe514b47a29377db680cfdf4",
            "placeholder": "​",
            "style": "IPY_MODEL_aade27a4ace147619667d8053ce709c7",
            "value": " 9912422/9912422 [00:00&lt;00:00, 13328501.23it/s]"
          }
        },
        "479092e355fe4073a0b27ee7f55af754": {
          "model_module": "@jupyter-widgets/base",
          "model_name": "LayoutModel",
          "model_module_version": "1.2.0",
          "state": {
            "_model_module": "@jupyter-widgets/base",
            "_model_module_version": "1.2.0",
            "_model_name": "LayoutModel",
            "_view_count": null,
            "_view_module": "@jupyter-widgets/base",
            "_view_module_version": "1.2.0",
            "_view_name": "LayoutView",
            "align_content": null,
            "align_items": null,
            "align_self": null,
            "border": null,
            "bottom": null,
            "display": null,
            "flex": null,
            "flex_flow": null,
            "grid_area": null,
            "grid_auto_columns": null,
            "grid_auto_flow": null,
            "grid_auto_rows": null,
            "grid_column": null,
            "grid_gap": null,
            "grid_row": null,
            "grid_template_areas": null,
            "grid_template_columns": null,
            "grid_template_rows": null,
            "height": null,
            "justify_content": null,
            "justify_items": null,
            "left": null,
            "margin": null,
            "max_height": null,
            "max_width": null,
            "min_height": null,
            "min_width": null,
            "object_fit": null,
            "object_position": null,
            "order": null,
            "overflow": null,
            "overflow_x": null,
            "overflow_y": null,
            "padding": null,
            "right": null,
            "top": null,
            "visibility": null,
            "width": null
          }
        },
        "4a49935898704d2dac762ff583459cba": {
          "model_module": "@jupyter-widgets/base",
          "model_name": "LayoutModel",
          "model_module_version": "1.2.0",
          "state": {
            "_model_module": "@jupyter-widgets/base",
            "_model_module_version": "1.2.0",
            "_model_name": "LayoutModel",
            "_view_count": null,
            "_view_module": "@jupyter-widgets/base",
            "_view_module_version": "1.2.0",
            "_view_name": "LayoutView",
            "align_content": null,
            "align_items": null,
            "align_self": null,
            "border": null,
            "bottom": null,
            "display": null,
            "flex": null,
            "flex_flow": null,
            "grid_area": null,
            "grid_auto_columns": null,
            "grid_auto_flow": null,
            "grid_auto_rows": null,
            "grid_column": null,
            "grid_gap": null,
            "grid_row": null,
            "grid_template_areas": null,
            "grid_template_columns": null,
            "grid_template_rows": null,
            "height": null,
            "justify_content": null,
            "justify_items": null,
            "left": null,
            "margin": null,
            "max_height": null,
            "max_width": null,
            "min_height": null,
            "min_width": null,
            "object_fit": null,
            "object_position": null,
            "order": null,
            "overflow": null,
            "overflow_x": null,
            "overflow_y": null,
            "padding": null,
            "right": null,
            "top": null,
            "visibility": null,
            "width": null
          }
        },
        "d342ad3934874775bca0259cc4b9cb0c": {
          "model_module": "@jupyter-widgets/controls",
          "model_name": "DescriptionStyleModel",
          "model_module_version": "1.5.0",
          "state": {
            "_model_module": "@jupyter-widgets/controls",
            "_model_module_version": "1.5.0",
            "_model_name": "DescriptionStyleModel",
            "_view_count": null,
            "_view_module": "@jupyter-widgets/base",
            "_view_module_version": "1.2.0",
            "_view_name": "StyleView",
            "description_width": ""
          }
        },
        "c6aed0c9bc8e461693a85e1a3327c6aa": {
          "model_module": "@jupyter-widgets/base",
          "model_name": "LayoutModel",
          "model_module_version": "1.2.0",
          "state": {
            "_model_module": "@jupyter-widgets/base",
            "_model_module_version": "1.2.0",
            "_model_name": "LayoutModel",
            "_view_count": null,
            "_view_module": "@jupyter-widgets/base",
            "_view_module_version": "1.2.0",
            "_view_name": "LayoutView",
            "align_content": null,
            "align_items": null,
            "align_self": null,
            "border": null,
            "bottom": null,
            "display": null,
            "flex": null,
            "flex_flow": null,
            "grid_area": null,
            "grid_auto_columns": null,
            "grid_auto_flow": null,
            "grid_auto_rows": null,
            "grid_column": null,
            "grid_gap": null,
            "grid_row": null,
            "grid_template_areas": null,
            "grid_template_columns": null,
            "grid_template_rows": null,
            "height": null,
            "justify_content": null,
            "justify_items": null,
            "left": null,
            "margin": null,
            "max_height": null,
            "max_width": null,
            "min_height": null,
            "min_width": null,
            "object_fit": null,
            "object_position": null,
            "order": null,
            "overflow": null,
            "overflow_x": null,
            "overflow_y": null,
            "padding": null,
            "right": null,
            "top": null,
            "visibility": null,
            "width": null
          }
        },
        "7accc11a058843fbb8fb81b3cc9f310b": {
          "model_module": "@jupyter-widgets/controls",
          "model_name": "ProgressStyleModel",
          "model_module_version": "1.5.0",
          "state": {
            "_model_module": "@jupyter-widgets/controls",
            "_model_module_version": "1.5.0",
            "_model_name": "ProgressStyleModel",
            "_view_count": null,
            "_view_module": "@jupyter-widgets/base",
            "_view_module_version": "1.2.0",
            "_view_name": "StyleView",
            "bar_color": null,
            "description_width": ""
          }
        },
        "44d4f284fe514b47a29377db680cfdf4": {
          "model_module": "@jupyter-widgets/base",
          "model_name": "LayoutModel",
          "model_module_version": "1.2.0",
          "state": {
            "_model_module": "@jupyter-widgets/base",
            "_model_module_version": "1.2.0",
            "_model_name": "LayoutModel",
            "_view_count": null,
            "_view_module": "@jupyter-widgets/base",
            "_view_module_version": "1.2.0",
            "_view_name": "LayoutView",
            "align_content": null,
            "align_items": null,
            "align_self": null,
            "border": null,
            "bottom": null,
            "display": null,
            "flex": null,
            "flex_flow": null,
            "grid_area": null,
            "grid_auto_columns": null,
            "grid_auto_flow": null,
            "grid_auto_rows": null,
            "grid_column": null,
            "grid_gap": null,
            "grid_row": null,
            "grid_template_areas": null,
            "grid_template_columns": null,
            "grid_template_rows": null,
            "height": null,
            "justify_content": null,
            "justify_items": null,
            "left": null,
            "margin": null,
            "max_height": null,
            "max_width": null,
            "min_height": null,
            "min_width": null,
            "object_fit": null,
            "object_position": null,
            "order": null,
            "overflow": null,
            "overflow_x": null,
            "overflow_y": null,
            "padding": null,
            "right": null,
            "top": null,
            "visibility": null,
            "width": null
          }
        },
        "aade27a4ace147619667d8053ce709c7": {
          "model_module": "@jupyter-widgets/controls",
          "model_name": "DescriptionStyleModel",
          "model_module_version": "1.5.0",
          "state": {
            "_model_module": "@jupyter-widgets/controls",
            "_model_module_version": "1.5.0",
            "_model_name": "DescriptionStyleModel",
            "_view_count": null,
            "_view_module": "@jupyter-widgets/base",
            "_view_module_version": "1.2.0",
            "_view_name": "StyleView",
            "description_width": ""
          }
        },
        "b58580bab94d4dcfb88652921b31b06c": {
          "model_module": "@jupyter-widgets/controls",
          "model_name": "HBoxModel",
          "model_module_version": "1.5.0",
          "state": {
            "_dom_classes": [],
            "_model_module": "@jupyter-widgets/controls",
            "_model_module_version": "1.5.0",
            "_model_name": "HBoxModel",
            "_view_count": null,
            "_view_module": "@jupyter-widgets/controls",
            "_view_module_version": "1.5.0",
            "_view_name": "HBoxView",
            "box_style": "",
            "children": [
              "IPY_MODEL_f909a1ea34294450923cbac184e731e0",
              "IPY_MODEL_39f5181b787a430896a8c5c4453139de",
              "IPY_MODEL_372209798b4d4a408ddadb4769900582"
            ],
            "layout": "IPY_MODEL_27b27d71a263446595f5a76940618610"
          }
        },
        "f909a1ea34294450923cbac184e731e0": {
          "model_module": "@jupyter-widgets/controls",
          "model_name": "HTMLModel",
          "model_module_version": "1.5.0",
          "state": {
            "_dom_classes": [],
            "_model_module": "@jupyter-widgets/controls",
            "_model_module_version": "1.5.0",
            "_model_name": "HTMLModel",
            "_view_count": null,
            "_view_module": "@jupyter-widgets/controls",
            "_view_module_version": "1.5.0",
            "_view_name": "HTMLView",
            "description": "",
            "description_tooltip": null,
            "layout": "IPY_MODEL_45e9950cdbd141908cc905ef46919089",
            "placeholder": "​",
            "style": "IPY_MODEL_ad6ea30406ef403c8a5b7f178bde411e",
            "value": "100%"
          }
        },
        "39f5181b787a430896a8c5c4453139de": {
          "model_module": "@jupyter-widgets/controls",
          "model_name": "FloatProgressModel",
          "model_module_version": "1.5.0",
          "state": {
            "_dom_classes": [],
            "_model_module": "@jupyter-widgets/controls",
            "_model_module_version": "1.5.0",
            "_model_name": "FloatProgressModel",
            "_view_count": null,
            "_view_module": "@jupyter-widgets/controls",
            "_view_module_version": "1.5.0",
            "_view_name": "ProgressView",
            "bar_style": "success",
            "description": "",
            "description_tooltip": null,
            "layout": "IPY_MODEL_37d815c367954d53bb977ea9887df229",
            "max": 28881,
            "min": 0,
            "orientation": "horizontal",
            "style": "IPY_MODEL_69c7c3c9f0b94ca498964826bbd09470",
            "value": 28881
          }
        },
        "372209798b4d4a408ddadb4769900582": {
          "model_module": "@jupyter-widgets/controls",
          "model_name": "HTMLModel",
          "model_module_version": "1.5.0",
          "state": {
            "_dom_classes": [],
            "_model_module": "@jupyter-widgets/controls",
            "_model_module_version": "1.5.0",
            "_model_name": "HTMLModel",
            "_view_count": null,
            "_view_module": "@jupyter-widgets/controls",
            "_view_module_version": "1.5.0",
            "_view_name": "HTMLView",
            "description": "",
            "description_tooltip": null,
            "layout": "IPY_MODEL_4fd35af71a6149d0af4a37af3fafc521",
            "placeholder": "​",
            "style": "IPY_MODEL_84c4ad9c379142069d7f707acfffad52",
            "value": " 28881/28881 [00:00&lt;00:00, 788910.92it/s]"
          }
        },
        "27b27d71a263446595f5a76940618610": {
          "model_module": "@jupyter-widgets/base",
          "model_name": "LayoutModel",
          "model_module_version": "1.2.0",
          "state": {
            "_model_module": "@jupyter-widgets/base",
            "_model_module_version": "1.2.0",
            "_model_name": "LayoutModel",
            "_view_count": null,
            "_view_module": "@jupyter-widgets/base",
            "_view_module_version": "1.2.0",
            "_view_name": "LayoutView",
            "align_content": null,
            "align_items": null,
            "align_self": null,
            "border": null,
            "bottom": null,
            "display": null,
            "flex": null,
            "flex_flow": null,
            "grid_area": null,
            "grid_auto_columns": null,
            "grid_auto_flow": null,
            "grid_auto_rows": null,
            "grid_column": null,
            "grid_gap": null,
            "grid_row": null,
            "grid_template_areas": null,
            "grid_template_columns": null,
            "grid_template_rows": null,
            "height": null,
            "justify_content": null,
            "justify_items": null,
            "left": null,
            "margin": null,
            "max_height": null,
            "max_width": null,
            "min_height": null,
            "min_width": null,
            "object_fit": null,
            "object_position": null,
            "order": null,
            "overflow": null,
            "overflow_x": null,
            "overflow_y": null,
            "padding": null,
            "right": null,
            "top": null,
            "visibility": null,
            "width": null
          }
        },
        "45e9950cdbd141908cc905ef46919089": {
          "model_module": "@jupyter-widgets/base",
          "model_name": "LayoutModel",
          "model_module_version": "1.2.0",
          "state": {
            "_model_module": "@jupyter-widgets/base",
            "_model_module_version": "1.2.0",
            "_model_name": "LayoutModel",
            "_view_count": null,
            "_view_module": "@jupyter-widgets/base",
            "_view_module_version": "1.2.0",
            "_view_name": "LayoutView",
            "align_content": null,
            "align_items": null,
            "align_self": null,
            "border": null,
            "bottom": null,
            "display": null,
            "flex": null,
            "flex_flow": null,
            "grid_area": null,
            "grid_auto_columns": null,
            "grid_auto_flow": null,
            "grid_auto_rows": null,
            "grid_column": null,
            "grid_gap": null,
            "grid_row": null,
            "grid_template_areas": null,
            "grid_template_columns": null,
            "grid_template_rows": null,
            "height": null,
            "justify_content": null,
            "justify_items": null,
            "left": null,
            "margin": null,
            "max_height": null,
            "max_width": null,
            "min_height": null,
            "min_width": null,
            "object_fit": null,
            "object_position": null,
            "order": null,
            "overflow": null,
            "overflow_x": null,
            "overflow_y": null,
            "padding": null,
            "right": null,
            "top": null,
            "visibility": null,
            "width": null
          }
        },
        "ad6ea30406ef403c8a5b7f178bde411e": {
          "model_module": "@jupyter-widgets/controls",
          "model_name": "DescriptionStyleModel",
          "model_module_version": "1.5.0",
          "state": {
            "_model_module": "@jupyter-widgets/controls",
            "_model_module_version": "1.5.0",
            "_model_name": "DescriptionStyleModel",
            "_view_count": null,
            "_view_module": "@jupyter-widgets/base",
            "_view_module_version": "1.2.0",
            "_view_name": "StyleView",
            "description_width": ""
          }
        },
        "37d815c367954d53bb977ea9887df229": {
          "model_module": "@jupyter-widgets/base",
          "model_name": "LayoutModel",
          "model_module_version": "1.2.0",
          "state": {
            "_model_module": "@jupyter-widgets/base",
            "_model_module_version": "1.2.0",
            "_model_name": "LayoutModel",
            "_view_count": null,
            "_view_module": "@jupyter-widgets/base",
            "_view_module_version": "1.2.0",
            "_view_name": "LayoutView",
            "align_content": null,
            "align_items": null,
            "align_self": null,
            "border": null,
            "bottom": null,
            "display": null,
            "flex": null,
            "flex_flow": null,
            "grid_area": null,
            "grid_auto_columns": null,
            "grid_auto_flow": null,
            "grid_auto_rows": null,
            "grid_column": null,
            "grid_gap": null,
            "grid_row": null,
            "grid_template_areas": null,
            "grid_template_columns": null,
            "grid_template_rows": null,
            "height": null,
            "justify_content": null,
            "justify_items": null,
            "left": null,
            "margin": null,
            "max_height": null,
            "max_width": null,
            "min_height": null,
            "min_width": null,
            "object_fit": null,
            "object_position": null,
            "order": null,
            "overflow": null,
            "overflow_x": null,
            "overflow_y": null,
            "padding": null,
            "right": null,
            "top": null,
            "visibility": null,
            "width": null
          }
        },
        "69c7c3c9f0b94ca498964826bbd09470": {
          "model_module": "@jupyter-widgets/controls",
          "model_name": "ProgressStyleModel",
          "model_module_version": "1.5.0",
          "state": {
            "_model_module": "@jupyter-widgets/controls",
            "_model_module_version": "1.5.0",
            "_model_name": "ProgressStyleModel",
            "_view_count": null,
            "_view_module": "@jupyter-widgets/base",
            "_view_module_version": "1.2.0",
            "_view_name": "StyleView",
            "bar_color": null,
            "description_width": ""
          }
        },
        "4fd35af71a6149d0af4a37af3fafc521": {
          "model_module": "@jupyter-widgets/base",
          "model_name": "LayoutModel",
          "model_module_version": "1.2.0",
          "state": {
            "_model_module": "@jupyter-widgets/base",
            "_model_module_version": "1.2.0",
            "_model_name": "LayoutModel",
            "_view_count": null,
            "_view_module": "@jupyter-widgets/base",
            "_view_module_version": "1.2.0",
            "_view_name": "LayoutView",
            "align_content": null,
            "align_items": null,
            "align_self": null,
            "border": null,
            "bottom": null,
            "display": null,
            "flex": null,
            "flex_flow": null,
            "grid_area": null,
            "grid_auto_columns": null,
            "grid_auto_flow": null,
            "grid_auto_rows": null,
            "grid_column": null,
            "grid_gap": null,
            "grid_row": null,
            "grid_template_areas": null,
            "grid_template_columns": null,
            "grid_template_rows": null,
            "height": null,
            "justify_content": null,
            "justify_items": null,
            "left": null,
            "margin": null,
            "max_height": null,
            "max_width": null,
            "min_height": null,
            "min_width": null,
            "object_fit": null,
            "object_position": null,
            "order": null,
            "overflow": null,
            "overflow_x": null,
            "overflow_y": null,
            "padding": null,
            "right": null,
            "top": null,
            "visibility": null,
            "width": null
          }
        },
        "84c4ad9c379142069d7f707acfffad52": {
          "model_module": "@jupyter-widgets/controls",
          "model_name": "DescriptionStyleModel",
          "model_module_version": "1.5.0",
          "state": {
            "_model_module": "@jupyter-widgets/controls",
            "_model_module_version": "1.5.0",
            "_model_name": "DescriptionStyleModel",
            "_view_count": null,
            "_view_module": "@jupyter-widgets/base",
            "_view_module_version": "1.2.0",
            "_view_name": "StyleView",
            "description_width": ""
          }
        },
        "6a4e9e3b9fa244ddbfa3da93f518bf4f": {
          "model_module": "@jupyter-widgets/controls",
          "model_name": "HBoxModel",
          "model_module_version": "1.5.0",
          "state": {
            "_dom_classes": [],
            "_model_module": "@jupyter-widgets/controls",
            "_model_module_version": "1.5.0",
            "_model_name": "HBoxModel",
            "_view_count": null,
            "_view_module": "@jupyter-widgets/controls",
            "_view_module_version": "1.5.0",
            "_view_name": "HBoxView",
            "box_style": "",
            "children": [
              "IPY_MODEL_1a578df0e800488a95188181285ceca6",
              "IPY_MODEL_dd9f793bfd2b41eabb7d487246670a53",
              "IPY_MODEL_1279ccd11cae400daa7f2c17188b1051"
            ],
            "layout": "IPY_MODEL_935fc7ee67d6440690fbe42e981998a3"
          }
        },
        "1a578df0e800488a95188181285ceca6": {
          "model_module": "@jupyter-widgets/controls",
          "model_name": "HTMLModel",
          "model_module_version": "1.5.0",
          "state": {
            "_dom_classes": [],
            "_model_module": "@jupyter-widgets/controls",
            "_model_module_version": "1.5.0",
            "_model_name": "HTMLModel",
            "_view_count": null,
            "_view_module": "@jupyter-widgets/controls",
            "_view_module_version": "1.5.0",
            "_view_name": "HTMLView",
            "description": "",
            "description_tooltip": null,
            "layout": "IPY_MODEL_930533427ecf42fb988cc458a2fb33ff",
            "placeholder": "​",
            "style": "IPY_MODEL_5c1fd85ce5e04f75b98396a9010c6295",
            "value": "100%"
          }
        },
        "dd9f793bfd2b41eabb7d487246670a53": {
          "model_module": "@jupyter-widgets/controls",
          "model_name": "FloatProgressModel",
          "model_module_version": "1.5.0",
          "state": {
            "_dom_classes": [],
            "_model_module": "@jupyter-widgets/controls",
            "_model_module_version": "1.5.0",
            "_model_name": "FloatProgressModel",
            "_view_count": null,
            "_view_module": "@jupyter-widgets/controls",
            "_view_module_version": "1.5.0",
            "_view_name": "ProgressView",
            "bar_style": "success",
            "description": "",
            "description_tooltip": null,
            "layout": "IPY_MODEL_64899286882a446c85e6e927827bef45",
            "max": 1648877,
            "min": 0,
            "orientation": "horizontal",
            "style": "IPY_MODEL_1c8f50e18f474fce958e2e76f4394969",
            "value": 1648877
          }
        },
        "1279ccd11cae400daa7f2c17188b1051": {
          "model_module": "@jupyter-widgets/controls",
          "model_name": "HTMLModel",
          "model_module_version": "1.5.0",
          "state": {
            "_dom_classes": [],
            "_model_module": "@jupyter-widgets/controls",
            "_model_module_version": "1.5.0",
            "_model_name": "HTMLModel",
            "_view_count": null,
            "_view_module": "@jupyter-widgets/controls",
            "_view_module_version": "1.5.0",
            "_view_name": "HTMLView",
            "description": "",
            "description_tooltip": null,
            "layout": "IPY_MODEL_3524bec7f3294908ad6770417a94446a",
            "placeholder": "​",
            "style": "IPY_MODEL_91e03a49f1cc41e3b059937402180eb1",
            "value": " 1648877/1648877 [00:00&lt;00:00, 8509321.05it/s]"
          }
        },
        "935fc7ee67d6440690fbe42e981998a3": {
          "model_module": "@jupyter-widgets/base",
          "model_name": "LayoutModel",
          "model_module_version": "1.2.0",
          "state": {
            "_model_module": "@jupyter-widgets/base",
            "_model_module_version": "1.2.0",
            "_model_name": "LayoutModel",
            "_view_count": null,
            "_view_module": "@jupyter-widgets/base",
            "_view_module_version": "1.2.0",
            "_view_name": "LayoutView",
            "align_content": null,
            "align_items": null,
            "align_self": null,
            "border": null,
            "bottom": null,
            "display": null,
            "flex": null,
            "flex_flow": null,
            "grid_area": null,
            "grid_auto_columns": null,
            "grid_auto_flow": null,
            "grid_auto_rows": null,
            "grid_column": null,
            "grid_gap": null,
            "grid_row": null,
            "grid_template_areas": null,
            "grid_template_columns": null,
            "grid_template_rows": null,
            "height": null,
            "justify_content": null,
            "justify_items": null,
            "left": null,
            "margin": null,
            "max_height": null,
            "max_width": null,
            "min_height": null,
            "min_width": null,
            "object_fit": null,
            "object_position": null,
            "order": null,
            "overflow": null,
            "overflow_x": null,
            "overflow_y": null,
            "padding": null,
            "right": null,
            "top": null,
            "visibility": null,
            "width": null
          }
        },
        "930533427ecf42fb988cc458a2fb33ff": {
          "model_module": "@jupyter-widgets/base",
          "model_name": "LayoutModel",
          "model_module_version": "1.2.0",
          "state": {
            "_model_module": "@jupyter-widgets/base",
            "_model_module_version": "1.2.0",
            "_model_name": "LayoutModel",
            "_view_count": null,
            "_view_module": "@jupyter-widgets/base",
            "_view_module_version": "1.2.0",
            "_view_name": "LayoutView",
            "align_content": null,
            "align_items": null,
            "align_self": null,
            "border": null,
            "bottom": null,
            "display": null,
            "flex": null,
            "flex_flow": null,
            "grid_area": null,
            "grid_auto_columns": null,
            "grid_auto_flow": null,
            "grid_auto_rows": null,
            "grid_column": null,
            "grid_gap": null,
            "grid_row": null,
            "grid_template_areas": null,
            "grid_template_columns": null,
            "grid_template_rows": null,
            "height": null,
            "justify_content": null,
            "justify_items": null,
            "left": null,
            "margin": null,
            "max_height": null,
            "max_width": null,
            "min_height": null,
            "min_width": null,
            "object_fit": null,
            "object_position": null,
            "order": null,
            "overflow": null,
            "overflow_x": null,
            "overflow_y": null,
            "padding": null,
            "right": null,
            "top": null,
            "visibility": null,
            "width": null
          }
        },
        "5c1fd85ce5e04f75b98396a9010c6295": {
          "model_module": "@jupyter-widgets/controls",
          "model_name": "DescriptionStyleModel",
          "model_module_version": "1.5.0",
          "state": {
            "_model_module": "@jupyter-widgets/controls",
            "_model_module_version": "1.5.0",
            "_model_name": "DescriptionStyleModel",
            "_view_count": null,
            "_view_module": "@jupyter-widgets/base",
            "_view_module_version": "1.2.0",
            "_view_name": "StyleView",
            "description_width": ""
          }
        },
        "64899286882a446c85e6e927827bef45": {
          "model_module": "@jupyter-widgets/base",
          "model_name": "LayoutModel",
          "model_module_version": "1.2.0",
          "state": {
            "_model_module": "@jupyter-widgets/base",
            "_model_module_version": "1.2.0",
            "_model_name": "LayoutModel",
            "_view_count": null,
            "_view_module": "@jupyter-widgets/base",
            "_view_module_version": "1.2.0",
            "_view_name": "LayoutView",
            "align_content": null,
            "align_items": null,
            "align_self": null,
            "border": null,
            "bottom": null,
            "display": null,
            "flex": null,
            "flex_flow": null,
            "grid_area": null,
            "grid_auto_columns": null,
            "grid_auto_flow": null,
            "grid_auto_rows": null,
            "grid_column": null,
            "grid_gap": null,
            "grid_row": null,
            "grid_template_areas": null,
            "grid_template_columns": null,
            "grid_template_rows": null,
            "height": null,
            "justify_content": null,
            "justify_items": null,
            "left": null,
            "margin": null,
            "max_height": null,
            "max_width": null,
            "min_height": null,
            "min_width": null,
            "object_fit": null,
            "object_position": null,
            "order": null,
            "overflow": null,
            "overflow_x": null,
            "overflow_y": null,
            "padding": null,
            "right": null,
            "top": null,
            "visibility": null,
            "width": null
          }
        },
        "1c8f50e18f474fce958e2e76f4394969": {
          "model_module": "@jupyter-widgets/controls",
          "model_name": "ProgressStyleModel",
          "model_module_version": "1.5.0",
          "state": {
            "_model_module": "@jupyter-widgets/controls",
            "_model_module_version": "1.5.0",
            "_model_name": "ProgressStyleModel",
            "_view_count": null,
            "_view_module": "@jupyter-widgets/base",
            "_view_module_version": "1.2.0",
            "_view_name": "StyleView",
            "bar_color": null,
            "description_width": ""
          }
        },
        "3524bec7f3294908ad6770417a94446a": {
          "model_module": "@jupyter-widgets/base",
          "model_name": "LayoutModel",
          "model_module_version": "1.2.0",
          "state": {
            "_model_module": "@jupyter-widgets/base",
            "_model_module_version": "1.2.0",
            "_model_name": "LayoutModel",
            "_view_count": null,
            "_view_module": "@jupyter-widgets/base",
            "_view_module_version": "1.2.0",
            "_view_name": "LayoutView",
            "align_content": null,
            "align_items": null,
            "align_self": null,
            "border": null,
            "bottom": null,
            "display": null,
            "flex": null,
            "flex_flow": null,
            "grid_area": null,
            "grid_auto_columns": null,
            "grid_auto_flow": null,
            "grid_auto_rows": null,
            "grid_column": null,
            "grid_gap": null,
            "grid_row": null,
            "grid_template_areas": null,
            "grid_template_columns": null,
            "grid_template_rows": null,
            "height": null,
            "justify_content": null,
            "justify_items": null,
            "left": null,
            "margin": null,
            "max_height": null,
            "max_width": null,
            "min_height": null,
            "min_width": null,
            "object_fit": null,
            "object_position": null,
            "order": null,
            "overflow": null,
            "overflow_x": null,
            "overflow_y": null,
            "padding": null,
            "right": null,
            "top": null,
            "visibility": null,
            "width": null
          }
        },
        "91e03a49f1cc41e3b059937402180eb1": {
          "model_module": "@jupyter-widgets/controls",
          "model_name": "DescriptionStyleModel",
          "model_module_version": "1.5.0",
          "state": {
            "_model_module": "@jupyter-widgets/controls",
            "_model_module_version": "1.5.0",
            "_model_name": "DescriptionStyleModel",
            "_view_count": null,
            "_view_module": "@jupyter-widgets/base",
            "_view_module_version": "1.2.0",
            "_view_name": "StyleView",
            "description_width": ""
          }
        },
        "4cf94e083c084b0d8ec0cf51399f8dcf": {
          "model_module": "@jupyter-widgets/controls",
          "model_name": "HBoxModel",
          "model_module_version": "1.5.0",
          "state": {
            "_dom_classes": [],
            "_model_module": "@jupyter-widgets/controls",
            "_model_module_version": "1.5.0",
            "_model_name": "HBoxModel",
            "_view_count": null,
            "_view_module": "@jupyter-widgets/controls",
            "_view_module_version": "1.5.0",
            "_view_name": "HBoxView",
            "box_style": "",
            "children": [
              "IPY_MODEL_e83cfe65bbde43568d1716b921332cc4",
              "IPY_MODEL_fa04925ee65e444f8a96bd2d30c835eb",
              "IPY_MODEL_3c805a15c6ec490bb7fc7935463bec01"
            ],
            "layout": "IPY_MODEL_42a1061486cb40bea087b083853461cd"
          }
        },
        "e83cfe65bbde43568d1716b921332cc4": {
          "model_module": "@jupyter-widgets/controls",
          "model_name": "HTMLModel",
          "model_module_version": "1.5.0",
          "state": {
            "_dom_classes": [],
            "_model_module": "@jupyter-widgets/controls",
            "_model_module_version": "1.5.0",
            "_model_name": "HTMLModel",
            "_view_count": null,
            "_view_module": "@jupyter-widgets/controls",
            "_view_module_version": "1.5.0",
            "_view_name": "HTMLView",
            "description": "",
            "description_tooltip": null,
            "layout": "IPY_MODEL_9177afefd6574ed58b6109479437d457",
            "placeholder": "​",
            "style": "IPY_MODEL_833bb11a6d604121b515665880827413",
            "value": "100%"
          }
        },
        "fa04925ee65e444f8a96bd2d30c835eb": {
          "model_module": "@jupyter-widgets/controls",
          "model_name": "FloatProgressModel",
          "model_module_version": "1.5.0",
          "state": {
            "_dom_classes": [],
            "_model_module": "@jupyter-widgets/controls",
            "_model_module_version": "1.5.0",
            "_model_name": "FloatProgressModel",
            "_view_count": null,
            "_view_module": "@jupyter-widgets/controls",
            "_view_module_version": "1.5.0",
            "_view_name": "ProgressView",
            "bar_style": "success",
            "description": "",
            "description_tooltip": null,
            "layout": "IPY_MODEL_4c07d8563348459687c96689d6ff8488",
            "max": 4542,
            "min": 0,
            "orientation": "horizontal",
            "style": "IPY_MODEL_64a7d32c3516426c96a835742da89058",
            "value": 4542
          }
        },
        "3c805a15c6ec490bb7fc7935463bec01": {
          "model_module": "@jupyter-widgets/controls",
          "model_name": "HTMLModel",
          "model_module_version": "1.5.0",
          "state": {
            "_dom_classes": [],
            "_model_module": "@jupyter-widgets/controls",
            "_model_module_version": "1.5.0",
            "_model_name": "HTMLModel",
            "_view_count": null,
            "_view_module": "@jupyter-widgets/controls",
            "_view_module_version": "1.5.0",
            "_view_name": "HTMLView",
            "description": "",
            "description_tooltip": null,
            "layout": "IPY_MODEL_a636e62b294b454aa2d84f30357ff15f",
            "placeholder": "​",
            "style": "IPY_MODEL_4ae3ad7b823348699e42ef0b5783e3f3",
            "value": " 4542/4542 [00:00&lt;00:00, 149212.28it/s]"
          }
        },
        "42a1061486cb40bea087b083853461cd": {
          "model_module": "@jupyter-widgets/base",
          "model_name": "LayoutModel",
          "model_module_version": "1.2.0",
          "state": {
            "_model_module": "@jupyter-widgets/base",
            "_model_module_version": "1.2.0",
            "_model_name": "LayoutModel",
            "_view_count": null,
            "_view_module": "@jupyter-widgets/base",
            "_view_module_version": "1.2.0",
            "_view_name": "LayoutView",
            "align_content": null,
            "align_items": null,
            "align_self": null,
            "border": null,
            "bottom": null,
            "display": null,
            "flex": null,
            "flex_flow": null,
            "grid_area": null,
            "grid_auto_columns": null,
            "grid_auto_flow": null,
            "grid_auto_rows": null,
            "grid_column": null,
            "grid_gap": null,
            "grid_row": null,
            "grid_template_areas": null,
            "grid_template_columns": null,
            "grid_template_rows": null,
            "height": null,
            "justify_content": null,
            "justify_items": null,
            "left": null,
            "margin": null,
            "max_height": null,
            "max_width": null,
            "min_height": null,
            "min_width": null,
            "object_fit": null,
            "object_position": null,
            "order": null,
            "overflow": null,
            "overflow_x": null,
            "overflow_y": null,
            "padding": null,
            "right": null,
            "top": null,
            "visibility": null,
            "width": null
          }
        },
        "9177afefd6574ed58b6109479437d457": {
          "model_module": "@jupyter-widgets/base",
          "model_name": "LayoutModel",
          "model_module_version": "1.2.0",
          "state": {
            "_model_module": "@jupyter-widgets/base",
            "_model_module_version": "1.2.0",
            "_model_name": "LayoutModel",
            "_view_count": null,
            "_view_module": "@jupyter-widgets/base",
            "_view_module_version": "1.2.0",
            "_view_name": "LayoutView",
            "align_content": null,
            "align_items": null,
            "align_self": null,
            "border": null,
            "bottom": null,
            "display": null,
            "flex": null,
            "flex_flow": null,
            "grid_area": null,
            "grid_auto_columns": null,
            "grid_auto_flow": null,
            "grid_auto_rows": null,
            "grid_column": null,
            "grid_gap": null,
            "grid_row": null,
            "grid_template_areas": null,
            "grid_template_columns": null,
            "grid_template_rows": null,
            "height": null,
            "justify_content": null,
            "justify_items": null,
            "left": null,
            "margin": null,
            "max_height": null,
            "max_width": null,
            "min_height": null,
            "min_width": null,
            "object_fit": null,
            "object_position": null,
            "order": null,
            "overflow": null,
            "overflow_x": null,
            "overflow_y": null,
            "padding": null,
            "right": null,
            "top": null,
            "visibility": null,
            "width": null
          }
        },
        "833bb11a6d604121b515665880827413": {
          "model_module": "@jupyter-widgets/controls",
          "model_name": "DescriptionStyleModel",
          "model_module_version": "1.5.0",
          "state": {
            "_model_module": "@jupyter-widgets/controls",
            "_model_module_version": "1.5.0",
            "_model_name": "DescriptionStyleModel",
            "_view_count": null,
            "_view_module": "@jupyter-widgets/base",
            "_view_module_version": "1.2.0",
            "_view_name": "StyleView",
            "description_width": ""
          }
        },
        "4c07d8563348459687c96689d6ff8488": {
          "model_module": "@jupyter-widgets/base",
          "model_name": "LayoutModel",
          "model_module_version": "1.2.0",
          "state": {
            "_model_module": "@jupyter-widgets/base",
            "_model_module_version": "1.2.0",
            "_model_name": "LayoutModel",
            "_view_count": null,
            "_view_module": "@jupyter-widgets/base",
            "_view_module_version": "1.2.0",
            "_view_name": "LayoutView",
            "align_content": null,
            "align_items": null,
            "align_self": null,
            "border": null,
            "bottom": null,
            "display": null,
            "flex": null,
            "flex_flow": null,
            "grid_area": null,
            "grid_auto_columns": null,
            "grid_auto_flow": null,
            "grid_auto_rows": null,
            "grid_column": null,
            "grid_gap": null,
            "grid_row": null,
            "grid_template_areas": null,
            "grid_template_columns": null,
            "grid_template_rows": null,
            "height": null,
            "justify_content": null,
            "justify_items": null,
            "left": null,
            "margin": null,
            "max_height": null,
            "max_width": null,
            "min_height": null,
            "min_width": null,
            "object_fit": null,
            "object_position": null,
            "order": null,
            "overflow": null,
            "overflow_x": null,
            "overflow_y": null,
            "padding": null,
            "right": null,
            "top": null,
            "visibility": null,
            "width": null
          }
        },
        "64a7d32c3516426c96a835742da89058": {
          "model_module": "@jupyter-widgets/controls",
          "model_name": "ProgressStyleModel",
          "model_module_version": "1.5.0",
          "state": {
            "_model_module": "@jupyter-widgets/controls",
            "_model_module_version": "1.5.0",
            "_model_name": "ProgressStyleModel",
            "_view_count": null,
            "_view_module": "@jupyter-widgets/base",
            "_view_module_version": "1.2.0",
            "_view_name": "StyleView",
            "bar_color": null,
            "description_width": ""
          }
        },
        "a636e62b294b454aa2d84f30357ff15f": {
          "model_module": "@jupyter-widgets/base",
          "model_name": "LayoutModel",
          "model_module_version": "1.2.0",
          "state": {
            "_model_module": "@jupyter-widgets/base",
            "_model_module_version": "1.2.0",
            "_model_name": "LayoutModel",
            "_view_count": null,
            "_view_module": "@jupyter-widgets/base",
            "_view_module_version": "1.2.0",
            "_view_name": "LayoutView",
            "align_content": null,
            "align_items": null,
            "align_self": null,
            "border": null,
            "bottom": null,
            "display": null,
            "flex": null,
            "flex_flow": null,
            "grid_area": null,
            "grid_auto_columns": null,
            "grid_auto_flow": null,
            "grid_auto_rows": null,
            "grid_column": null,
            "grid_gap": null,
            "grid_row": null,
            "grid_template_areas": null,
            "grid_template_columns": null,
            "grid_template_rows": null,
            "height": null,
            "justify_content": null,
            "justify_items": null,
            "left": null,
            "margin": null,
            "max_height": null,
            "max_width": null,
            "min_height": null,
            "min_width": null,
            "object_fit": null,
            "object_position": null,
            "order": null,
            "overflow": null,
            "overflow_x": null,
            "overflow_y": null,
            "padding": null,
            "right": null,
            "top": null,
            "visibility": null,
            "width": null
          }
        },
        "4ae3ad7b823348699e42ef0b5783e3f3": {
          "model_module": "@jupyter-widgets/controls",
          "model_name": "DescriptionStyleModel",
          "model_module_version": "1.5.0",
          "state": {
            "_model_module": "@jupyter-widgets/controls",
            "_model_module_version": "1.5.0",
            "_model_name": "DescriptionStyleModel",
            "_view_count": null,
            "_view_module": "@jupyter-widgets/base",
            "_view_module_version": "1.2.0",
            "_view_name": "StyleView",
            "description_width": ""
          }
        }
      }
    }
  },
  "nbformat": 4,
  "nbformat_minor": 0
}