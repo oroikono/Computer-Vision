{
  "cells": [
    {
      "cell_type": "markdown",
      "metadata": {
        "id": "DbEdnP5oN40f"
      },
      "source": [
        "# Point Cloud Binary Classification with PyTorch"
      ]
    },
    {
      "cell_type": "markdown",
      "metadata": {
        "id": "Aw9DPA9aN40f"
      },
      "source": [
        "Make sure you are using the `dl4cv` conda environment."
      ]
    },
    {
      "cell_type": "markdown",
      "metadata": {
        "id": "NlUtBcAXN40g"
      },
      "source": [
        "## Dataset loading and visualization"
      ]
    },
    {
      "cell_type": "markdown",
      "metadata": {
        "id": "s-pFKwvRN40g"
      },
      "source": [
        "The input X contain 100 2D points, and y are their corresponding labels (0 or 1). The goal is to train a model that can classify every point to its correct label.\n"
      ]
    },
    {
      "cell_type": "code",
      "execution_count": null,
      "metadata": {
        "colab": {
          "base_uri": "https://localhost:8080/",
          "height": 283
        },
        "id": "qslP9i4yN40h",
        "outputId": "aab642ea-01c1-442f-c5c6-482776dd2240"
      },
      "outputs": [
        {
          "output_type": "display_data",
          "data": {
            "text/plain": [
              "<Figure size 432x288 with 1 Axes>"
            ],
            "image/png": "[encoded data removed]"
          },
          "metadata": {
            "needs_background": "light"
          }
        },
        {
          "output_type": "display_data",
          "data": {
            "text/plain": [
              "<Figure size 432x288 with 0 Axes>"
            ]
          },
          "metadata": {}
        }
      ],
      "source": [
        "%matplotlib inline\n",
        "import matplotlib.pyplot as plt\n",
        "import numpy as np\n",
        "import torch\n",
        "import torch.nn as nn\n",
        "import torch.nn.functional as F\n",
        "import torch.optim as optim\n",
        "from torch.utils.data import Dataset\n",
        "from torch.utils.data import DataLoader\n",
        "from torch.optim import Adam\n",
        "\n",
        "dataset = np.load('/content/2d_pcl_dataset.npz')\n",
        "X, y = dataset['X'], dataset['y']\n",
        "\n",
        "X0 = X[y==0] # 50 2D points have label 0\n",
        "X1 = X[y==1] # 50 2D points have label 1\n",
        "\n",
        "def plot(X0, X1, fit_param=None):\n",
        "    plt.scatter(X0[:,0], X0[:,1], color='red', label=0)\n",
        "    plt.scatter(X1[:,0], X1[:,1], color='blue', label=1)\n",
        "    \n",
        "    plt.xlim([-0.55, 0.55])\n",
        "    plt.ylim([-0.35, 0.25])\n",
        "    plt.legend()\n",
        "    plt.show()\n",
        "    plt.clf()\n",
        "\n",
        "plot(X0, X1)"
      ]
    },
    {
      "cell_type": "markdown",
      "metadata": {
        "id": "qBaqam7oN40i"
      },
      "source": [
        "## Logistic Regression for the point cloud classification task\n"
      ]
    },
    {
      "cell_type": "markdown",
      "metadata": {
        "id": "UepCGkL_N40i"
      },
      "source": [
        "Starting by filling in the `Simple2DDataset` class below. First, in the class constructore `__init__`, you will need to read the right `2d_pcl_dataset.npz` from disk.\n",
        "\n",
        "Second, in the `__getitem__`, you will need to take a single data point and its label based on its index `idx`"
      ]
    },
    {
      "cell_type": "code",
      "execution_count": null,
      "metadata": {
        "id": "xCnrvBlWN40i"
      },
      "outputs": [],
      "source": [
        "class Simple2DDataset(Dataset):\n",
        "    def __init__(self):\n",
        "        super().__init__()\n",
        "        #########################################################################\n",
        "        # TODO: read data from disk using np.load.\n",
        "        # Data is located in the folder \"data\".\n",
        "        # Save samples and labels to class members self.X and self.y respectively.\n",
        "        # samples should be an Nx2 numpy array. Labels should be Nx1.\n",
        "        #########################################################################\n",
        "        self.X = 0\n",
        "        self.y = 0\n",
        "        \n",
        "        pclData = np.load('/content/2d_pcl_dataset.npz')\n",
        "        self.X = pclData['X']\n",
        "        self.y = pclData['y']\n",
        "       \n",
        "\n",
        "    def __len__(self):\n",
        "        # Returns the number of samples in the dataset.\n",
        "        return self.X.shape[0]\n",
        "#         return 1\n",
        "    \n",
        "     \n",
        "    def __len__(self):\n",
        "        # Returns the number of samples in the dataset.\n",
        "        return self.X.shape[0]\n",
        "    \n",
        "    def __getitem__(self, idx):\n",
        "        #########################################################################\n",
        "        # TODO: return the sample and label with index idx\n",
        "        #########################################################################\n",
        "        point = self.X[idx]\n",
        "        label = self.y[idx]\n",
        "\n",
        "        \n",
        "        # Convert to tensor.\n",
        "        return torch.from_numpy(point).float(), \\\n",
        "               torch.from_numpy(label[np.newaxis]).float()\n"
      ]
    },
    {
      "cell_type": "markdown",
      "metadata": {
        "id": "3QqmHnDfN40k"
      },
      "source": [
        "With the complete `Simple2DDataset`, we can create a PyTorch dataloader\n",
        "\n",
        "**NOTE**: if you encounter some unexpected errors in data loading, try setting `NUM_WORKERS = 0`"
      ]
    },
    {
      "cell_type": "code",
      "execution_count": null,
      "metadata": {
        "id": "AKEwf1UkN40k"
      },
      "outputs": [],
      "source": [
        "BATCH_SIZE = 8\n",
        "NUM_WORKERS = 0\n",
        "\n",
        "# create the dataloader\n",
        "dataset = Simple2DDataset()\n",
        "train_dataloader = DataLoader(\n",
        "    dataset,\n",
        "    batch_size=BATCH_SIZE,\n",
        "    num_workers=NUM_WORKERS,\n",
        "    shuffle=True\n",
        ")"
      ]
    },
    {
      "cell_type": "markdown",
      "metadata": {
        "id": "tllWrVj_N40k"
      },
      "source": [
        "Now, define your first network by filling in the `LinearClassifier` class below.\n",
        "\n",
        "Add a single linear layer `nn.Linear` inside the `nn.Sequential` call. The input is 2D, and the output should be a single value, corresponding to the probability of a given 2D point being part of cluster 0."
      ]
    },
    {
      "cell_type": "code",
      "execution_count": null,
      "metadata": {
        "id": "02GTPnSEN40k"
      },
      "outputs": [],
      "source": [
        "class LinearClassifier(nn.Module):\n",
        "    def __init__(self):\n",
        "        super().__init__()\n",
        "\n",
        "        self.codename = 'linear'\n",
        "\n",
        "        #########################################################################\n",
        "        # TODO: add a single linear layer with nn.Linear, inside the `nn.Sequential` call.\n",
        "        # Input is 2D.\n",
        "        # Output is a single value.\n",
        "        #########################################################################\n",
        "        self.model = nn.Sequential(nn.Linear(2,1))\n",
        "        \n",
        "    def forward(self, batch):\n",
        "        # Process batch using the defined model.\n",
        "        x = self.model(batch)\n",
        "        # Final sigmoid activation to obtain a probability between 0 and 1.\n",
        "        return torch.sigmoid(x)"
      ]
    },
    {
      "cell_type": "markdown",
      "metadata": {
        "id": "xtHduPf_N40k"
      },
      "source": [
        "Now, you are asked to implement the training loop below"
      ]
    },
    {
      "cell_type": "code",
      "execution_count": null,
      "metadata": {
        "id": "oz4Mb47QN40k"
      },
      "outputs": [],
      "source": [
        "def train(net, optimizer, dataloader, epoch):\n",
        "    net.train()\n",
        "    loss_sum = 0\n",
        "    for batch_idx, (point, label) in enumerate(dataloader):\n",
        "        # First we need to zero the gradient, otherwise PyTorch would accumulate them\n",
        "        optimizer.zero_grad()\n",
        "\n",
        "        #########################################################################\n",
        "        #TODO: \n",
        "        # 1. forward pass of the network to obtain the predictions given the batch\n",
        "        # 2. compute the loss using F.binary_cross_entropy\n",
        "        # 3. backward pass on the loss using loss.backward(), and one step \n",
        "        # of gradient descent (optimization) using optimizer.step()\n",
        "        #########################################################################\n",
        "        loss = 0\n",
        "        output = net.forward(point)\n",
        "        loss = F.binary_cross_entropy(output,label)\n",
        "        loss.backward()\n",
        "        optimizer.step() \n",
        "        loss_sum += loss\n",
        "    return loss_sum\n",
        "        "
      ]
    },
    {
      "cell_type": "markdown",
      "metadata": {
        "id": "RD7A0WqrN40l"
      },
      "source": [
        "You can now run below to train the linear model."
      ]
    },
    {
      "cell_type": "code",
      "execution_count": null,
      "metadata": {
        "scrolled": true,
        "tags": [],
        "colab": {
          "base_uri": "https://localhost:8080/"
        },
        "id": "S-zXqyjeN40l",
        "outputId": "3abd1dd3-d256-4ba9-dbfd-754b0ab1fa85"
      },
      "outputs": [
        {
          "output_type": "stream",
          "name": "stdout",
          "text": [
            "[Epoch 01] Loss: 8.2072\n",
            "[Epoch 02] Loss: 6.6250\n",
            "[Epoch 03] Loss: 5.7053\n",
            "[Epoch 04] Loss: 5.0723\n",
            "[Epoch 05] Loss: 4.8874\n",
            "[Epoch 06] Loss: 4.5096\n",
            "[Epoch 07] Loss: 4.3352\n",
            "[Epoch 08] Loss: 4.6422\n",
            "[Epoch 09] Loss: 4.1233\n",
            "[Epoch 10] Loss: 4.0146\n",
            "[Epoch 11] Loss: 4.1038\n",
            "[Epoch 12] Loss: 3.9554\n",
            "[Epoch 13] Loss: 3.7982\n",
            "[Epoch 14] Loss: 3.9758\n",
            "[Epoch 15] Loss: 3.8720\n",
            "[Epoch 16] Loss: 3.8841\n",
            "[Epoch 17] Loss: 3.6786\n",
            "[Epoch 18] Loss: 3.6568\n",
            "[Epoch 19] Loss: 3.7383\n",
            "[Epoch 20] Loss: 3.8083\n",
            "[Epoch 21] Loss: 3.5357\n",
            "[Epoch 22] Loss: 3.7669\n",
            "[Epoch 23] Loss: 3.5931\n",
            "[Epoch 24] Loss: 3.5687\n",
            "[Epoch 25] Loss: 3.6466\n",
            "[Epoch 26] Loss: 3.7862\n",
            "[Epoch 27] Loss: 3.8114\n",
            "[Epoch 28] Loss: 3.7418\n",
            "[Epoch 29] Loss: 3.5443\n",
            "[Epoch 30] Loss: 3.6704\n",
            "[Epoch 31] Loss: 4.0098\n",
            "[Epoch 32] Loss: 3.6002\n",
            "[Epoch 33] Loss: 3.5778\n",
            "[Epoch 34] Loss: 3.6311\n",
            "[Epoch 35] Loss: 3.5874\n",
            "[Epoch 36] Loss: 3.5414\n",
            "[Epoch 37] Loss: 3.4757\n",
            "[Epoch 38] Loss: 3.5278\n",
            "[Epoch 39] Loss: 3.9817\n",
            "[Epoch 40] Loss: 3.9656\n",
            "[Epoch 41] Loss: 3.5089\n",
            "[Epoch 42] Loss: 3.8052\n",
            "[Epoch 43] Loss: 3.5335\n",
            "[Epoch 44] Loss: 3.8982\n",
            "[Epoch 45] Loss: 3.6340\n",
            "[Epoch 46] Loss: 3.6518\n",
            "[Epoch 47] Loss: 3.7925\n",
            "[Epoch 48] Loss: 3.7283\n",
            "[Epoch 49] Loss: 3.5248\n",
            "[Epoch 50] Loss: 3.4796\n",
            "[Epoch 51] Loss: 3.5223\n",
            "[Epoch 52] Loss: 3.5630\n",
            "[Epoch 53] Loss: 3.5512\n",
            "[Epoch 54] Loss: 3.4821\n",
            "[Epoch 55] Loss: 3.5445\n",
            "[Epoch 56] Loss: 3.4811\n",
            "[Epoch 57] Loss: 3.4534\n",
            "[Epoch 58] Loss: 3.8060\n",
            "[Epoch 59] Loss: 3.6018\n",
            "[Epoch 60] Loss: 3.4778\n",
            "[Epoch 61] Loss: 3.6012\n",
            "[Epoch 62] Loss: 3.5993\n",
            "[Epoch 63] Loss: 3.6292\n",
            "[Epoch 64] Loss: 3.7392\n",
            "[Epoch 65] Loss: 3.5460\n",
            "[Epoch 66] Loss: 3.4674\n",
            "[Epoch 67] Loss: 3.5265\n",
            "[Epoch 68] Loss: 3.5608\n",
            "[Epoch 69] Loss: 3.5168\n",
            "[Epoch 70] Loss: 3.5155\n",
            "[Epoch 71] Loss: 3.5935\n",
            "[Epoch 72] Loss: 3.8945\n",
            "[Epoch 73] Loss: 3.4334\n",
            "[Epoch 74] Loss: 3.5116\n",
            "[Epoch 75] Loss: 3.5903\n",
            "[Epoch 76] Loss: 3.5438\n",
            "[Epoch 77] Loss: 3.4967\n",
            "[Epoch 78] Loss: 3.4331\n",
            "[Epoch 79] Loss: 3.6565\n",
            "[Epoch 80] Loss: 3.6219\n",
            "[Epoch 81] Loss: 3.5720\n",
            "[Epoch 82] Loss: 3.6869\n",
            "[Epoch 83] Loss: 3.5363\n",
            "[Epoch 84] Loss: 3.4460\n",
            "[Epoch 85] Loss: 3.5757\n",
            "[Epoch 86] Loss: 3.7217\n",
            "[Epoch 87] Loss: 3.6474\n",
            "[Epoch 88] Loss: 3.8912\n",
            "[Epoch 89] Loss: 3.5493\n",
            "[Epoch 90] Loss: 3.5048\n",
            "[Epoch 91] Loss: 3.4690\n",
            "[Epoch 92] Loss: 3.5298\n",
            "[Epoch 93] Loss: 3.6545\n",
            "[Epoch 94] Loss: 3.7028\n",
            "[Epoch 95] Loss: 3.9450\n",
            "[Epoch 96] Loss: 3.4847\n",
            "[Epoch 97] Loss: 3.5524\n",
            "[Epoch 98] Loss: 3.6927\n",
            "[Epoch 99] Loss: 3.5216\n",
            "[Epoch 100] Loss: 3.6369\n"
          ]
        }
      ],
      "source": [
        "NUM_EPOCHS = 100\n",
        "# create the network.\n",
        "net = LinearClassifier()\n",
        "# create the optimizer.\n",
        "optimizer = Adam(net.parameters(), lr=0.1)\n",
        "best_accuracy = 0\n",
        "for epoch_idx in range(NUM_EPOCHS):\n",
        "    loss = train(net, optimizer, train_dataloader, epoch_idx)\n",
        "    print('[Epoch %02d] Loss: %.4f' % (epoch_idx + 1, loss))"
      ]
    },
    {
      "cell_type": "markdown",
      "metadata": {
        "id": "EyVrvLzuN40l"
      },
      "source": [
        "Now plot your result below.\n"
      ]
    },
    {
      "cell_type": "code",
      "execution_count": null,
      "metadata": {
        "id": "NipGuQ-HN40l"
      },
      "outputs": [],
      "source": []
    },
    {
      "cell_type": "code",
      "execution_count": null,
      "metadata": {
        "colab": {
          "base_uri": "https://localhost:8080/",
          "height": 283
        },
        "id": "hKpuPKNYN40m",
        "outputId": "d966e864-af05-4942-8e88-47e64b4773db"
      },
      "outputs": [
        {
          "output_type": "display_data",
          "data": {
            "text/plain": [
              "<Figure size 432x288 with 1 Axes>"
            ],
            "image/png": "[encoded data removed]"
          },
          "metadata": {
            "needs_background": "light"
          }
        },
        {
          "output_type": "display_data",
          "data": {
            "text/plain": [
              "<Figure size 432x288 with 0 Axes>"
            ]
          },
          "metadata": {}
        }
      ],
      "source": [
        "p = np.linspace(-0.5, 0.5, 500)\n",
        "x_plot, y_plot = np.meshgrid(p, p)\n",
        "X_plot = np.stack((x_plot, y_plot), axis=2).reshape(-1, 2)\n",
        "X_plot = torch.from_numpy(X_plot).float()\n",
        "output = net(X_plot)\n",
        "output = output.detach().numpy()\n",
        "output = output.reshape(x_plot.shape[0], x_plot.shape[1])\n",
        "\n",
        "plt.contour(x_plot, y_plot, output, [0.5],\n",
        "                  colors=('k',),\n",
        "                  linewidths=(3,))\n",
        "plot(X0, X1)\n"
      ]
    },
    {
      "cell_type": "markdown",
      "metadata": {
        "id": "aUICrXvtN40m"
      },
      "source": [
        "### Implement your first multi-layer perceptron (MLP) for point cloud classification\n",
        "Now you should notice that your logistic regression model cannot classify the point cloud correctly, and this is as expected :)  \n",
        "Therefore, we now ask you to implement an MLP for the same binary classification task."
      ]
    },
    {
      "cell_type": "code",
      "execution_count": null,
      "metadata": {
        "id": "miiTc3SzN40m"
      },
      "outputs": [],
      "source": [
        "# These are the parameters to be used\n",
        "nInput = 2\n",
        "nOutput = 1\n",
        "nHidden = 16\n",
        "act_fn = nn.ReLU()\n",
        "\n",
        "class MLP(nn.Module):\n",
        "    def __init__(self, nInput, nOutput, nHidden, act_fn):\n",
        "        super().__init__()\n",
        "\n",
        "        # Define the network layers in order.\n",
        "        # Input is 2D (nInput).\n",
        "        # Output is a single value (nOutput).\n",
        "        # Multiple linear layers each followed by a ReLU non-linearity (apart from the last).\n",
        "        #########################################################################\n",
        "        # TODO: add a two-layer MLP, inside the `nn.Sequential` call.\n",
        "        # Input is 2D.\n",
        "        # Output is a single value.\n",
        "\n",
        "        # Hint: unlike logistic regression where you need only one nn.Linear layer, \n",
        "        # here you will have two nn.Linear layers. After the first layer, we \n",
        "        # apply a ReLU activation function. The output is then passed to another \n",
        "        # linear layer. Note that you should use `nHidden` below as the hidden dimension \n",
        "        # of your linear layers.\n",
        "        #########################################################################\n",
        "        self.model = nn.Sequential(nn.Linear(nInput,nHidden),nn.ReLU(),nn.Linear(nHidden,nOutput),)\n",
        "    def forward(self, batch):\n",
        "        # Process batch using the defined model.\n",
        "        x = self.model(batch)\n",
        "        # Final sigmoid activation to obtain a probability.\n",
        "        return torch.sigmoid(x)\n"
      ]
    },
    {
      "cell_type": "markdown",
      "metadata": {
        "id": "Fnsj8K-9N40m"
      },
      "source": [
        "Run below again!"
      ]
    },
    {
      "cell_type": "code",
      "execution_count": null,
      "metadata": {
        "id": "-WiKP5B_N40m",
        "outputId": "f0392f4f-6812-4b09-95ca-961d282c1c03",
        "colab": {
          "base_uri": "https://localhost:8080/"
        }
      },
      "outputs": [
        {
          "output_type": "stream",
          "name": "stdout",
          "text": [
            "[Epoch 01] Loss: 6.7245\n",
            "[Epoch 02] Loss: 4.3644\n",
            "[Epoch 03] Loss: 5.0237\n",
            "[Epoch 04] Loss: 3.8657\n",
            "[Epoch 05] Loss: 3.5544\n",
            "[Epoch 06] Loss: 4.0095\n",
            "[Epoch 07] Loss: 3.8403\n",
            "[Epoch 08] Loss: 3.6923\n",
            "[Epoch 09] Loss: 3.8382\n",
            "[Epoch 10] Loss: 3.5725\n",
            "[Epoch 11] Loss: 3.7094\n",
            "[Epoch 12] Loss: 3.4890\n",
            "[Epoch 13] Loss: 3.4585\n",
            "[Epoch 14] Loss: 3.4191\n",
            "[Epoch 15] Loss: 3.3059\n",
            "[Epoch 16] Loss: 3.4366\n",
            "[Epoch 17] Loss: 3.2085\n",
            "[Epoch 18] Loss: 3.4448\n",
            "[Epoch 19] Loss: 3.3016\n",
            "[Epoch 20] Loss: 3.3066\n",
            "[Epoch 21] Loss: 3.0584\n",
            "[Epoch 22] Loss: 3.2418\n",
            "[Epoch 23] Loss: 3.0323\n",
            "[Epoch 24] Loss: 3.3288\n",
            "[Epoch 25] Loss: 3.1659\n",
            "[Epoch 26] Loss: 3.1233\n",
            "[Epoch 27] Loss: 2.9920\n",
            "[Epoch 28] Loss: 3.0845\n",
            "[Epoch 29] Loss: 3.4049\n",
            "[Epoch 30] Loss: 3.1583\n",
            "[Epoch 31] Loss: 3.1401\n",
            "[Epoch 32] Loss: 3.1404\n",
            "[Epoch 33] Loss: 3.1502\n",
            "[Epoch 34] Loss: 3.1447\n",
            "[Epoch 35] Loss: 3.1571\n",
            "[Epoch 36] Loss: 3.1660\n",
            "[Epoch 37] Loss: 2.9415\n",
            "[Epoch 38] Loss: 3.2348\n",
            "[Epoch 39] Loss: 3.3301\n",
            "[Epoch 40] Loss: 3.2228\n",
            "[Epoch 41] Loss: 3.0416\n",
            "[Epoch 42] Loss: 3.2355\n",
            "[Epoch 43] Loss: 3.1948\n",
            "[Epoch 44] Loss: 3.1205\n",
            "[Epoch 45] Loss: 2.9033\n",
            "[Epoch 46] Loss: 2.9725\n",
            "[Epoch 47] Loss: 2.8073\n",
            "[Epoch 48] Loss: 2.5473\n",
            "[Epoch 49] Loss: 2.2893\n",
            "[Epoch 50] Loss: 2.1527\n",
            "[Epoch 51] Loss: 2.2783\n",
            "[Epoch 52] Loss: 1.6419\n",
            "[Epoch 53] Loss: 1.5181\n",
            "[Epoch 54] Loss: 1.3297\n",
            "[Epoch 55] Loss: 1.0720\n",
            "[Epoch 56] Loss: 1.0771\n",
            "[Epoch 57] Loss: 1.0132\n",
            "[Epoch 58] Loss: 0.7969\n",
            "[Epoch 59] Loss: 0.6162\n",
            "[Epoch 60] Loss: 0.5975\n",
            "[Epoch 61] Loss: 0.3606\n",
            "[Epoch 62] Loss: 0.5167\n",
            "[Epoch 63] Loss: 0.3755\n",
            "[Epoch 64] Loss: 0.3210\n",
            "[Epoch 65] Loss: 0.3914\n",
            "[Epoch 66] Loss: 0.3276\n",
            "[Epoch 67] Loss: 0.2429\n",
            "[Epoch 68] Loss: 0.2666\n",
            "[Epoch 69] Loss: 0.2298\n",
            "[Epoch 70] Loss: 0.2728\n",
            "[Epoch 71] Loss: 0.2740\n",
            "[Epoch 72] Loss: 0.2337\n",
            "[Epoch 73] Loss: 0.4404\n",
            "[Epoch 74] Loss: 0.4280\n",
            "[Epoch 75] Loss: 0.2116\n",
            "[Epoch 76] Loss: 0.6395\n",
            "[Epoch 77] Loss: 0.5946\n",
            "[Epoch 78] Loss: 0.3916\n",
            "[Epoch 79] Loss: 0.4867\n",
            "[Epoch 80] Loss: 0.1116\n",
            "[Epoch 81] Loss: 0.1378\n",
            "[Epoch 82] Loss: 0.1160\n",
            "[Epoch 83] Loss: 0.1011\n",
            "[Epoch 84] Loss: 0.0862\n",
            "[Epoch 85] Loss: 0.0863\n",
            "[Epoch 86] Loss: 0.0789\n",
            "[Epoch 87] Loss: 0.0757\n",
            "[Epoch 88] Loss: 0.0954\n",
            "[Epoch 89] Loss: 0.1050\n",
            "[Epoch 90] Loss: 0.0736\n",
            "[Epoch 91] Loss: 0.0873\n",
            "[Epoch 92] Loss: 0.0792\n",
            "[Epoch 93] Loss: 0.0621\n",
            "[Epoch 94] Loss: 0.0627\n",
            "[Epoch 95] Loss: 0.0617\n",
            "[Epoch 96] Loss: 0.0514\n",
            "[Epoch 97] Loss: 0.0486\n",
            "[Epoch 98] Loss: 0.0504\n",
            "[Epoch 99] Loss: 0.0478\n",
            "[Epoch 100] Loss: 0.0429\n",
            "[Epoch 101] Loss: 0.0459\n",
            "[Epoch 102] Loss: 0.0462\n",
            "[Epoch 103] Loss: 0.0557\n",
            "[Epoch 104] Loss: 0.0397\n",
            "[Epoch 105] Loss: 0.0490\n",
            "[Epoch 106] Loss: 0.0368\n",
            "[Epoch 107] Loss: 0.0393\n",
            "[Epoch 108] Loss: 0.0341\n",
            "[Epoch 109] Loss: 0.0392\n",
            "[Epoch 110] Loss: 0.0363\n",
            "[Epoch 111] Loss: 0.0324\n",
            "[Epoch 112] Loss: 0.0328\n",
            "[Epoch 113] Loss: 0.0334\n",
            "[Epoch 114] Loss: 0.0372\n",
            "[Epoch 115] Loss: 0.0290\n",
            "[Epoch 116] Loss: 0.0308\n",
            "[Epoch 117] Loss: 0.0290\n",
            "[Epoch 118] Loss: 0.0285\n",
            "[Epoch 119] Loss: 0.0296\n",
            "[Epoch 120] Loss: 0.0262\n",
            "[Epoch 121] Loss: 0.0268\n",
            "[Epoch 122] Loss: 0.0275\n",
            "[Epoch 123] Loss: 0.0232\n",
            "[Epoch 124] Loss: 0.0248\n",
            "[Epoch 125] Loss: 0.0300\n",
            "[Epoch 126] Loss: 0.0257\n",
            "[Epoch 127] Loss: 0.0245\n",
            "[Epoch 128] Loss: 0.0235\n",
            "[Epoch 129] Loss: 0.0218\n",
            "[Epoch 130] Loss: 0.0210\n",
            "[Epoch 131] Loss: 0.0212\n",
            "[Epoch 132] Loss: 0.0214\n",
            "[Epoch 133] Loss: 0.0216\n",
            "[Epoch 134] Loss: 0.0234\n",
            "[Epoch 135] Loss: 0.0190\n",
            "[Epoch 136] Loss: 0.0207\n",
            "[Epoch 137] Loss: 0.0201\n",
            "[Epoch 138] Loss: 0.0227\n",
            "[Epoch 139] Loss: 0.0208\n",
            "[Epoch 140] Loss: 0.0208\n",
            "[Epoch 141] Loss: 0.0187\n",
            "[Epoch 142] Loss: 0.0182\n",
            "[Epoch 143] Loss: 0.0188\n",
            "[Epoch 144] Loss: 0.0164\n",
            "[Epoch 145] Loss: 0.0159\n",
            "[Epoch 146] Loss: 0.0183\n",
            "[Epoch 147] Loss: 0.0157\n",
            "[Epoch 148] Loss: 0.0168\n",
            "[Epoch 149] Loss: 0.0159\n",
            "[Epoch 150] Loss: 0.0167\n",
            "[Epoch 151] Loss: 0.0151\n",
            "[Epoch 152] Loss: 0.0151\n",
            "[Epoch 153] Loss: 0.0146\n",
            "[Epoch 154] Loss: 0.0146\n",
            "[Epoch 155] Loss: 0.0137\n",
            "[Epoch 156] Loss: 0.0132\n",
            "[Epoch 157] Loss: 0.0136\n",
            "[Epoch 158] Loss: 0.0136\n",
            "[Epoch 159] Loss: 0.0136\n",
            "[Epoch 160] Loss: 0.0122\n",
            "[Epoch 161] Loss: 0.0135\n",
            "[Epoch 162] Loss: 0.0134\n",
            "[Epoch 163] Loss: 0.0124\n",
            "[Epoch 164] Loss: 0.0144\n",
            "[Epoch 165] Loss: 0.0120\n",
            "[Epoch 166] Loss: 0.0121\n",
            "[Epoch 167] Loss: 0.0116\n",
            "[Epoch 168] Loss: 0.0116\n",
            "[Epoch 169] Loss: 0.0110\n",
            "[Epoch 170] Loss: 0.0110\n",
            "[Epoch 171] Loss: 0.0110\n",
            "[Epoch 172] Loss: 0.0110\n",
            "[Epoch 173] Loss: 0.0117\n",
            "[Epoch 174] Loss: 0.0119\n",
            "[Epoch 175] Loss: 0.0113\n",
            "[Epoch 176] Loss: 0.0103\n",
            "[Epoch 177] Loss: 0.0099\n",
            "[Epoch 178] Loss: 0.0097\n",
            "[Epoch 179] Loss: 0.0096\n",
            "[Epoch 180] Loss: 0.0095\n",
            "[Epoch 181] Loss: 0.0095\n",
            "[Epoch 182] Loss: 0.0094\n",
            "[Epoch 183] Loss: 0.0093\n",
            "[Epoch 184] Loss: 0.0097\n",
            "[Epoch 185] Loss: 0.0089\n",
            "[Epoch 186] Loss: 0.0090\n",
            "[Epoch 187] Loss: 0.0085\n",
            "[Epoch 188] Loss: 0.0084\n",
            "[Epoch 189] Loss: 0.0084\n",
            "[Epoch 190] Loss: 0.0114\n",
            "[Epoch 191] Loss: 0.0080\n",
            "[Epoch 192] Loss: 0.0090\n",
            "[Epoch 193] Loss: 0.0083\n",
            "[Epoch 194] Loss: 0.0081\n",
            "[Epoch 195] Loss: 0.0080\n",
            "[Epoch 196] Loss: 0.0088\n",
            "[Epoch 197] Loss: 0.0075\n",
            "[Epoch 198] Loss: 0.0085\n",
            "[Epoch 199] Loss: 0.0079\n",
            "[Epoch 200] Loss: 0.0074\n"
          ]
        }
      ],
      "source": [
        "NUM_EPOCHS = 200\n",
        "# create the network.\n",
        "net = MLP(nInput, nOutput, nHidden, act_fn)\n",
        "# create the optimizer.\n",
        "optimizer = Adam(net.parameters(), lr=0.1)\n",
        "\n",
        "best_accuracy = 0\n",
        "for epoch_idx in range(NUM_EPOCHS):\n",
        "    loss = train(net, optimizer, train_dataloader, epoch_idx)\n",
        "    print('[Epoch %02d] Loss: %.4f' % (epoch_idx + 1, loss))"
      ]
    },
    {
      "cell_type": "markdown",
      "metadata": {
        "id": "yOgT-cqJN40n"
      },
      "source": [
        "Again plot your result. You should see that the decision boundary can clearly separate the point clouds.\n"
      ]
    },
    {
      "cell_type": "code",
      "execution_count": null,
      "metadata": {
        "id": "xBZJ3WzoN40n",
        "outputId": "3110460a-fc22-42bd-a347-761e3a75b23e",
        "colab": {
          "base_uri": "https://localhost:8080/",
          "height": 283
        }
      },
      "outputs": [
        {
          "output_type": "display_data",
          "data": {
            "text/plain": [
              "<Figure size 432x288 with 1 Axes>"
            ],
            "image/png": "[encoded data removed]"
          },
          "metadata": {
            "needs_background": "light"
          }
        },
        {
          "output_type": "display_data",
          "data": {
            "text/plain": [
              "<Figure size 432x288 with 0 Axes>"
            ]
          },
          "metadata": {}
        }
      ],
      "source": [
        "p = np.linspace(-0.5, 0.5, 500)\n",
        "x_plot, y_plot = np.meshgrid(p, p)\n",
        "X_plot = np.stack((x_plot, y_plot), axis=2).reshape(-1, 2)\n",
        "X_plot = torch.from_numpy(X_plot).float()\n",
        "output = net(X_plot)\n",
        "output = output.detach().numpy()\n",
        "output = output.reshape(x_plot.shape[0], x_plot.shape[1])\n",
        "\n",
        "plt.contour(x_plot, y_plot, output, [0.5],\n",
        "                  colors=('k',),\n",
        "                  linewidths=(3,))\n",
        "plot(X0, X1)"
      ]
    }
  ],
  "metadata": {
    "kernelspec": {
      "display_name": "Python 3.9.12 ('base')",
      "language": "python",
      "name": "python3"
    },
    "language_info": {
      "codemirror_mode": {
        "name": "ipython",
        "version": 3
      },
      "file_extension": ".py",
      "mimetype": "text/x-python",
      "name": "python",
      "nbconvert_exporter": "python",
      "pygments_lexer": "ipython3",
      "version": "3.9.12"
    },
    "vscode": {
      "interpreter": {
        "hash": "d268b61a0efacafa8645774cb6d0204c9f01d7563ef03f7672146d044e8f345c"
      }
    },
    "colab": {
      "provenance": [],
      "collapsed_sections": []
    },
    "accelerator": "GPU"
  },
  "nbformat": 4,
  "nbformat_minor": 0
}